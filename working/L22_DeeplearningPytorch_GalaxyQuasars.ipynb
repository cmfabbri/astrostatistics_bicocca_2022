{
 "cells": [
  {
   "cell_type": "markdown",
   "id": "f4be0d4d",
   "metadata": {},
   "source": [
    "## Time to get your hands dirty. Galaxies vs quasars with neural networks.\n",
    "\n",
    "Let's go back to our galaxy vs quasar data we've used in a previous exercise. \n",
    "\n",
    "1. Read in SDSS galaxy color data from `solutions/galaxyquasar.csv`. Create arrays for the $(u-g)$, $(g-r)$, $(r-i)$, and $(i-z)$ colors. Also create an array with the class labels where galaxy=$0$ and quasar=$1$. \n",
    "\n",
    "2. Now we're going to fit a neural network classifier. First, scale your data appropriately and do a 30% train/test split.\n",
    "\n",
    "3. Now train the classifier. Use one the package among those we've seen. These include Tensorflow via keras, pytorch, and the [multilayer perceptron classifier](sklearn.neural_network.MLPClassifier) implemented in scikit-learn. My solution uses the latter, but this is an opportunity to pick the one you're most interested in learning. \n",
    "\n",
    "3. Start from a network architecture with a single hidden layer with 5 neurons, using the `adam` solver, the `relu` activation function, and a learninig rate of `0.001`. Plot the resulting ROC curve. \n",
    "\n",
    "4. Now let's optimize the hyperparameters of your network. Explore different hyperparameters and see what fits the data best.  Do you best now to optimize the network architecture. Be creative!\n",
    "\n",
    "5. Is your best result comparable with the simpler classifiers we've seen before? Do we need deep learning here? If yes, which features are captured best?\n",
    "\n",
    "\n",
    "A few tips:\n",
    "\n",
    "- In scikit-learn, remember that you can utilize all availables cores on your machine with `n_jobs=-1`. Print out the classification score for the training data, and the best parameters obtained by the cross validation.\n",
    "- If it takes too long, run the hyperparameter optimization on a subset of the training set. Then retrain the full network using the best hyperparameters only.\n",
    "- On cross validation, for scikit learn we've seen how to use `GridSearchCV` already. For Tensorflow, there's a really cool tool called [Tensorboard](https://www.tensorflow.org/tensorboard) (but don't start learning about it now, it takes a while to get it up and running).\n",
    "\n"
   ]
  },
  {
   "cell_type": "markdown",
   "id": "439a05d8",
   "metadata": {},
   "source": [
    "--------\n",
    "## My implementation"
   ]
  },
  {
   "cell_type": "markdown",
   "id": "74bd2f25",
   "metadata": {},
   "source": [
    "----------\n",
    "### Libraries & functions"
   ]
  },
  {
   "cell_type": "code",
   "execution_count": 89,
   "id": "b973c1e1",
   "metadata": {},
   "outputs": [],
   "source": [
    "import numpy as np\n",
    "import csv\n",
    "import matplotlib.pyplot as plt\n",
    "import matplotlib\n",
    "\n",
    "from astroML.classification import GMMBayes\n",
    "\n",
    "from sklearn.metrics import confusion_matrix\n",
    "from sklearn.metrics import roc_curve\n",
    "from sklearn.metrics import precision_recall_curve\n",
    "from sklearn.metrics import accuracy_score\n",
    "from sklearn.metrics import f1_score\n",
    "\n",
    "from sklearn.model_selection import GridSearchCV\n",
    "from sklearn.model_selection import RandomizedSearchCV\n",
    "from sklearn.model_selection import train_test_split\n",
    "from sklearn.neighbors import KNeighborsClassifier\n",
    "from sklearn.neural_network import MLPClassifier\n",
    "\n",
    "from sklearn.decomposition import PCA\n",
    "\n",
    "\n",
    "plt.rcParams['font.family'] = 'serif'\n",
    "plt.rcParams['mathtext.fontset'] = 'cm'\n",
    "plt.rcParams['font.serif'] = ['Liberation Serif'] + plt.rcParams['font.serif']\n",
    "plt.rcParams['font.size']=15"
   ]
  },
  {
   "cell_type": "code",
   "execution_count": 2,
   "id": "d3a07c0f",
   "metadata": {},
   "outputs": [],
   "source": [
    "'''\n",
    "function that assigns label 0 to the true positives (recognized quasars),\n",
    "1 to the true negatives (recognized galaxies), \n",
    "2 to the false negatives (quazars not recognized)\n",
    "& 3 to the false positives (galaxies identified as quasars)\n",
    "'''\n",
    "\n",
    "def results(y_true, y_predicted):\n",
    "    \n",
    "    tn = np.logical_and(y_predicted == y_true, y_true == 0)\n",
    "    fn = np.logical_and(y_predicted != y_true, y_true == 1)\n",
    "    fp = np.logical_and(y_predicted != y_true, y_true == 0)\n",
    "    \n",
    "    label = np.zeros(len(y_true))  \n",
    "    label[tn] = 1                     \n",
    "    label[fn] = 2\n",
    "    label[fp] = 3\n",
    "    \n",
    "    return label\n",
    "\n",
    "\n",
    "'''\n",
    "assigns to data labelled 'QS0' the label 1, 0 to data labelled 'GALAXY' \n",
    "'''\n",
    "def numlabels(y):\n",
    "    newy = np.zeros(len(y))\n",
    "    for i in range(len(y)):\n",
    "        if y[i] =='QSO':\n",
    "            newy[i] = 1\n",
    "    return newy\n",
    "\n",
    "\n",
    "''' \n",
    "Scales data around zero mean and with unit variance\n",
    "'''\n",
    "def cleandata(data):\n",
    "    return (data-data.mean())/data.std()"
   ]
  },
  {
   "cell_type": "markdown",
   "id": "482f496e",
   "metadata": {},
   "source": [
    "--------"
   ]
  },
  {
   "cell_type": "markdown",
   "id": "a7ec6297",
   "metadata": {},
   "source": [
    "### Data"
   ]
  },
  {
   "cell_type": "code",
   "execution_count": 3,
   "id": "3c381b22",
   "metadata": {},
   "outputs": [],
   "source": [
    "# Read data\n",
    "path = '/Users/giuliamariaborro/box/reps/astrostatistics_bicocca_2022/solutions/'\n",
    "data=np.genfromtxt(path+'galaxyquasar.csv', delimiter=',',names=True,usecols=(0,1,2,3,4,6),dtype=float,comments='#')\n",
    "names = data.dtype.names\n",
    "data=np.genfromtxt(path+'galaxyquasar.csv', delimiter=',',skip_header=1,usecols=(0,1,2,3,4,6),dtype=float)\n",
    "d = dict(zip(names, data.T))\n",
    "lab=np.genfromtxt(path+'galaxyquasar.csv', delimiter=',',skip_header=1,usecols=5,dtype=str)\n",
    "\n",
    "# Create arrays for the (u−g), (g−r), (r−i), and (i−z) colors\n",
    "for diff in ['ug', 'gr', 'ri', 'iz']:\n",
    "    d[diff]=d[diff[0]]-d[diff[1]] \n",
    "d['lab']=lab"
   ]
  },
  {
   "cell_type": "markdown",
   "id": "9771113a",
   "metadata": {},
   "source": [
    "Store color data and labels in X,y"
   ]
  },
  {
   "cell_type": "code",
   "execution_count": 4,
   "id": "7e8bfc43",
   "metadata": {},
   "outputs": [
    {
     "name": "stdout",
     "output_type": "stream",
     "text": [
      "(50000, 4)\n"
     ]
    }
   ],
   "source": [
    "# Prepare data (zero mean, unit variance)\n",
    "X = np.array([d['ug'], d['gr'],d['ri'],\n",
    "              d['iz']]).T\n",
    "\n",
    "Xnn = np.array([cleandata(d['ug']), cleandata(d['gr']), cleandata(d['ri']),\n",
    "              cleandata(d['iz'])]).T\n",
    "y = numlabels(d['lab'])\n",
    "print(X.shape)"
   ]
  },
  {
   "cell_type": "code",
   "execution_count": 5,
   "id": "e3567ba4",
   "metadata": {},
   "outputs": [],
   "source": [
    "# test train split\n",
    "Xnn_train, Xnn_test, y_train, y_test = train_test_split(\n",
    "     Xnn, y, test_size=0.3, random_state=8)"
   ]
  },
  {
   "cell_type": "markdown",
   "id": "23fd8652",
   "metadata": {},
   "source": [
    "-------\n",
    "### Neural network with MLPClassifier"
   ]
  },
  {
   "cell_type": "code",
   "execution_count": 6,
   "id": "f0422379",
   "metadata": {},
   "outputs": [],
   "source": [
    "# model\n",
    "clf1 = MLPClassifier(hidden_layer_sizes=5, activation='relu', solver='adam', \n",
    "                    learning_rate_init=0.001, random_state=8)\n",
    "\n",
    "# fit & predict\n",
    "clf1.fit(Xnn_train, y_train)\n",
    "y1_pred = clf1.predict(Xnn_test)"
   ]
  },
  {
   "cell_type": "markdown",
   "id": "2414189a",
   "metadata": {},
   "source": [
    "##### Optimize model with RandomizedSearchCV"
   ]
  },
  {
   "cell_type": "markdown",
   "id": "ae9a56a1",
   "metadata": {},
   "source": [
    "Do a 5-fold cross validation to get the best hidden layers size and learning rate initialization"
   ]
  },
  {
   "cell_type": "code",
   "execution_count": 7,
   "id": "3a4c5232",
   "metadata": {},
   "outputs": [
    {
     "name": "stdout",
     "output_type": "stream",
     "text": [
      "[[1 array([1, 1]) array([1, 1, 1])]\n",
      " [2 array([2, 2]) array([2, 2, 2])]\n",
      " [3 array([3, 3]) array([3, 3, 3])]\n",
      " [4 array([4, 4]) array([4, 4, 4])]\n",
      " [5 array([5, 5]) array([5, 5, 5])]\n",
      " [6 array([6, 6]) array([6, 6, 6])]\n",
      " [7 array([7, 7]) array([7, 7, 7])]\n",
      " [8 array([8, 8]) array([8, 8, 8])]\n",
      " [9 array([9, 9]) array([9, 9, 9])]\n",
      " [10 array([10, 10]) array([10, 10, 10])]]\n"
     ]
    },
    {
     "name": "stderr",
     "output_type": "stream",
     "text": [
      "/var/folders/l6/xx2lbds11l37fqdhf3bcglx80000gn/T/ipykernel_15898/1589088066.py:8: VisibleDeprecationWarning: Creating an ndarray from ragged nested sequences (which is a list-or-tuple of lists-or-tuples-or ndarrays with different lengths or shapes) is deprecated. If you meant to do this, you must specify 'dtype=object' when creating the ndarray.\n",
      "  HL = np.array([[b, np.full((2), b), np.full((3), b)] for b in range(1,11)])\n"
     ]
    },
    {
     "name": "stdout",
     "output_type": "stream",
     "text": [
      "best learning rate: 0.006 \n",
      " best hidden layers size: [6 6]\n"
     ]
    }
   ],
   "source": [
    "clf = MLPClassifier(activation='relu', solver='adam', max_iter=1000, random_state=6)\n",
    "\n",
    "# hidden layers from 1 to 3 all with the same number of neaurons, that goes from 1 to 11\n",
    "HL = np.array([[b, np.full((2), b), np.full((3), b)] for b in range(1,11)])\n",
    "print(HL)\n",
    "HL = HL.flatten()\n",
    "\n",
    "par={'hidden_layer_sizes': HL, \n",
    "    'learning_rate_init': np.linspace(0.001,0.01,10)}\n",
    "\n",
    "\n",
    "search = RandomizedSearchCV(clf, param_distributions=par, cv=5, n_jobs=-1) \n",
    "search.fit(Xnn_train, y_train)\n",
    "\n",
    "# results\n",
    "best_lr = search.best_params_['learning_rate_init']\n",
    "best_hls = search.best_params_['hidden_layer_sizes']\n",
    "\n",
    "\n",
    "\n",
    "\n",
    "#----------------- Grid Search -------------------------\n",
    "'''\n",
    "it takes a lot. results are rewritten in the next cell\n",
    "'''\n",
    "#grid = GridSearchCV(clf, param_grid=par, cv=5, n_jobs=-1) \n",
    "#grid.fit(X_train, y_train)\n",
    "\n",
    "# results\n",
    "#best_lr = grid.best_params_['learning_rate_init']\n",
    "#best_hls = grid.best_params_['hidden_layer_sizes'] \n",
    "print('best learning rate:', best_lr, \n",
    "      '\\n best hidden layers size:',best_hls)"
   ]
  },
  {
   "cell_type": "code",
   "execution_count": 8,
   "id": "cc98ee68",
   "metadata": {},
   "outputs": [],
   "source": [
    "# results from GridSearchCV:\n",
    "#best_lr = 0.007\n",
    "#best_hls = [9, 9, 9]"
   ]
  },
  {
   "cell_type": "code",
   "execution_count": 10,
   "id": "7a92bc68",
   "metadata": {},
   "outputs": [],
   "source": [
    "# best model\n",
    "clf2 = MLPClassifier(activation='relu', hidden_layer_sizes=best_hls, \n",
    "                    learning_rate_init=best_lr, solver='adam', random_state=8)\n",
    "\n",
    "# fit & predict\n",
    "clf2.fit(Xnn_train, y_train)\n",
    "y2_pred = clf2.predict(Xnn_test)"
   ]
  },
  {
   "cell_type": "markdown",
   "id": "36de3765",
   "metadata": {},
   "source": [
    "##### Compare models\n",
    "\n",
    "Compare the models made with the neural network and the classifications made with GMMB and KNN (using all colors this time!)"
   ]
  },
  {
   "cell_type": "markdown",
   "id": "eb5f9a0e",
   "metadata": {},
   "source": [
    "Get the false positive rate, true positive rate for the two models"
   ]
  },
  {
   "cell_type": "code",
   "execution_count": 85,
   "id": "924825b4",
   "metadata": {},
   "outputs": [],
   "source": [
    "# old models:\n",
    "\n",
    "X_train, X_test, y_train, y_test = train_test_split(X, y, test_size=0.3, random_state=8)\n",
    "\n",
    "\n",
    "gmmb = GMMBayes(13, random_state=8)\n",
    "gmmb.fit(X_train, y_train)\n",
    "y_pred_gmmb = gmmb.predict(X_test)\n",
    "\n",
    "knn = KNeighborsClassifier(11)\n",
    "knn.fit(X_train, y_train)\n",
    "y_pred_knn = knn.predict(X_test)"
   ]
  },
  {
   "cell_type": "markdown",
   "id": "94ac4971",
   "metadata": {},
   "source": [
    "\n",
    "\n",
    "Confusion matrix:"
   ]
  },
  {
   "cell_type": "code",
   "execution_count": 86,
   "id": "76a3e01f",
   "metadata": {
    "scrolled": true
   },
   "outputs": [
    {
     "name": "stdout",
     "output_type": "stream",
     "text": [
      "\n",
      " accuracy for GMMB: 0.9848 \n",
      " accuracy for KNN: 0.986 \n",
      " accuracy for first NN: 0.9844 \n",
      " accuracy for optimized NN: 0.9858666666666667\n",
      "\n",
      " GMMB: \n",
      " [[12745   100]\n",
      " [  128  2027]]\n",
      "\n",
      " KNNC: \n",
      " [[12769    76]\n",
      " [  134  2021]]\n",
      "\n",
      " NN first model: \n",
      " [[12771    74]\n",
      " [  160  1995]]\n",
      "\n",
      " NN optimized model: \n",
      " [[12775    70]\n",
      " [  142  2013]]\n"
     ]
    }
   ],
   "source": [
    "print('\\n accuracy for GMMB:', accuracy_score(y_test, y_pred_gmmb),\n",
    "     '\\n accuracy for KNN:', accuracy_score(y_test, y_pred_knn),\n",
    "      '\\n accuracy for first NN:', accuracy_score(y_test, y1_pred),\n",
    "     '\\n accuracy for optimized NN:', accuracy_score(y_test, y2_pred))\n",
    "\n",
    "\n",
    "print('\\n GMMB: \\n', confusion_matrix(y_test, y_pred_gmmb))\n",
    "print('\\n KNNC: \\n', confusion_matrix(y_test, y_pred_knn))\n",
    "print('\\n NN first model: \\n', confusion_matrix(y_test, y1_pred))\n",
    "print('\\n NN optimized model: \\n', confusion_matrix(y_test, y2_pred))"
   ]
  },
  {
   "cell_type": "markdown",
   "id": "9bdca73a",
   "metadata": {},
   "source": [
    "See the results in u-g g-r colorplot:"
   ]
  },
  {
   "cell_type": "code",
   "execution_count": 97,
   "id": "26cee945",
   "metadata": {},
   "outputs": [
    {
     "name": "stdout",
     "output_type": "stream",
     "text": [
      "Label = 0: quasars correctly identified. \n",
      "Label = 1: galaxies correctly identified. \n",
      "Label = 2: quasars exchanged for galaxies. \n",
      "Label = 3: galaxies exchanged for quasars.\n"
     ]
    },
    {
     "data": {
      "image/png": "[encoded data removed]",
      "text/plain": [
       "<Figure size 1440x504 with 2 Axes>"
      ]
     },
     "metadata": {
      "needs_background": "light"
     },
     "output_type": "display_data"
    },
    {
     "data": {
      "image/png": "[encoded data removed]",
      "text/plain": [
       "<Figure size 1440x504 with 3 Axes>"
      ]
     },
     "metadata": {
      "needs_background": "light"
     },
     "output_type": "display_data"
    }
   ],
   "source": [
    "fig = plt.figure(figsize=(20,7))\n",
    "cmap = plt.cm.get_cmap('viridis', 4)\n",
    "\n",
    "\n",
    "label = [results(y_test, y_pred_gmmb), \n",
    "         results(y_test, y_pred_knn),\n",
    "        results(y_test, y1_pred),\n",
    "        results(y_test, y2_pred)\n",
    "        ]\n",
    "\n",
    "\n",
    "print('Label = 0: quasars correctly identified. \\n'\n",
    "       'Label = 1: galaxies correctly identified. \\n'\n",
    "        'Label = 2: quasars exchanged for galaxies. \\n'\n",
    "       'Label = 3: galaxies exchanged for quasars.'\n",
    "     )\n",
    "\n",
    "\n",
    "ax1 = fig.add_subplot(121)\n",
    "ax1.scatter(X_test[:,0], X_test[:,1], alpha=0.3, c =label[0], cmap=cmap) \n",
    "ax1.set_title('GMMBayes')\n",
    "ax1.set_xlabel('u-g (whiten)')\n",
    "ax1.set_ylabel('g-r (whiten)')\n",
    "ax1.text(1.5, -8, 'Label = 0: true positives \\n'\n",
    "       'Label = 1: true negatives \\n'\n",
    "        'Label = 2: false negatives \\n'\n",
    "       'Label = 3: false positives',\n",
    "          bbox=dict(ec='k', fc='w'))\n",
    "\n",
    "\n",
    "ax2 = fig.add_subplot(122)\n",
    "ax2.scatter(X_test[:,0], X_test[:,1], alpha=0.3, c =label[1], cmap=cmap) \n",
    "ax2.set_title('KNeighborsClassifier')\n",
    "ax2.set_xlabel('u-g (whiten)')\n",
    "ax2.set_ylabel('g-r (whiten)')\n",
    "ax2.text(1.5, -8, 'Label = 0: true positives \\n'\n",
    "       'Label = 1: true negatives \\n'\n",
    "        'Label = 2: false negatives \\n'\n",
    "       'Label = 3: false positives',\n",
    "          bbox=dict(ec='k', fc='w'))\n",
    "\n",
    "\n",
    "fig = plt.figure(figsize=(20,7))\n",
    "\n",
    "ax3 = fig.add_subplot(121)\n",
    "ax3.scatter(X_test[:,0], X_test[:,1], alpha=0.3, c =label[2], cmap=cmap) \n",
    "ax3.set_title('NN first model')\n",
    "ax3.set_xlabel('u-g (whiten)')\n",
    "ax3.set_ylabel('g-r (whiten)')\n",
    "ax3.text(1.5, -8, 'Label = 0: true positives \\n'\n",
    "       'Label = 1: true negatives \\n'\n",
    "        'Label = 2: false negatives \\n'\n",
    "       'Label = 3: false positives',\n",
    "          bbox=dict(ec='k', fc='w'))\n",
    "\n",
    "ax4 = fig.add_subplot(122)\n",
    "im = ax4.scatter(X_test[:,0], X_test[:,1], alpha=0.3, c =label[3], cmap=cmap) \n",
    "ax4.set_title('NN optimized model')\n",
    "ax4.set_xlabel('u-g (whiten)')\n",
    "ax4.set_ylabel('g-r (whiten)')\n",
    "ax4.text(1.5, -8, 'Label = 0: true positives \\n'\n",
    "       'Label = 1: true negatives \\n'\n",
    "        'Label = 2: false negatives \\n'\n",
    "       'Label = 3: false positives',\n",
    "          bbox=dict(ec='k', fc='w'))\n",
    "\n",
    "cbar = fig.colorbar(im)\n",
    "tick_locs = np.arange(4)\n",
    "cbar.set_ticks(tick_locs);"
   ]
  },
  {
   "cell_type": "markdown",
   "id": "95374d98",
   "metadata": {},
   "source": [
    "ROC curves:"
   ]
  },
  {
   "cell_type": "code",
   "execution_count": 81,
   "id": "dd408f87",
   "metadata": {},
   "outputs": [],
   "source": [
    "# first NN model\n",
    "y1_prob = clf1.predict_proba(Xnn_test)[:,1]\n",
    "fpr1, tpr1, thresholds1 = roc_curve(y_test, y1_prob)\n",
    "\n",
    "# optimized NN model\n",
    "y2_prob = clf2.predict_proba(Xnn_test)[:,1]\n",
    "fpr2, tpr2, thresholds2 = roc_curve(y_test, y2_prob)\n",
    "\n",
    "# GMMBayes\n",
    "y3_prob = gmmb.predict_proba(X_test)[:,1]\n",
    "fpr3, tpr3, thresholds3 = roc_curve(y_test, y3_prob)\n",
    "\n",
    "# KNN \n",
    "y4_prob= knn.predict_proba(X_test)[:,1]\n",
    "fpr4, tpr4, thresholds4 = roc_curve(y_test, y4_prob)"
   ]
  },
  {
   "cell_type": "code",
   "execution_count": 82,
   "id": "7a5ea94a",
   "metadata": {
    "scrolled": false
   },
   "outputs": [
    {
     "data": {
      "image/png": "[encoded data removed]",
      "text/plain": [
       "<Figure size 432x288 with 1 Axes>"
      ]
     },
     "metadata": {
      "needs_background": "light"
     },
     "output_type": "display_data"
    }
   ],
   "source": [
    "# plot\n",
    "plt.plot(fpr1, tpr1, label='First NN model')\n",
    "plt.plot(fpr2, tpr2, label='Optimized NN model')\n",
    "plt.plot(fpr3, tpr3, label='GMMB')\n",
    "plt.plot(fpr4, tpr4, label='KNN')\n",
    "\n",
    "plt.xlabel('false positive rate')   # GAL said are QSO / all GAL\n",
    "plt.ylabel('true positive rate')    # QSO rightly identified / all QSO\n",
    "plt.title('ROC curve')\n",
    "plt.legend()\n",
    "\n",
    "plt.ylim(0.9, 1.02);"
   ]
  },
  {
   "cell_type": "markdown",
   "id": "1a668977",
   "metadata": {},
   "source": [
    "The performances of GMMB and of the optimized NN similar!\n",
    "See also precision-recall curves:"
   ]
  },
  {
   "cell_type": "code",
   "execution_count": 83,
   "id": "cc1530ed",
   "metadata": {},
   "outputs": [],
   "source": [
    "pr1, rec1, t1 = precision_recall_curve(y_test, y1_prob)\n",
    "pr2, rec2, t2 = precision_recall_curve(y_test, y2_prob)\n",
    "pr3, rec3, t3 = precision_recall_curve(y_test, y3_prob)\n",
    "pr4, rec4, t4 = precision_recall_curve(y_test, y4_prob)"
   ]
  },
  {
   "cell_type": "code",
   "execution_count": 84,
   "id": "58c0a044",
   "metadata": {},
   "outputs": [
    {
     "data": {
      "image/png": "[encoded data removed]",
      "text/plain": [
       "<Figure size 432x288 with 1 Axes>"
      ]
     },
     "metadata": {
      "needs_background": "light"
     },
     "output_type": "display_data"
    }
   ],
   "source": [
    "# plot\n",
    "plt.plot(rec1, pr1, label='First NN model')\n",
    "plt.plot(rec2, pr2,  label='Optimized NN model')\n",
    "plt.plot(rec3, pr3, label='GMMB')\n",
    "plt.plot(rec4, pr4, label='KNN')\n",
    "\n",
    "plt.xlabel('recall')          # QSO rightly identified / all QSO\n",
    "plt.ylabel('precision')       # 1 - GAL I said are QSO / #objects classified as QSO\n",
    "plt.title('Precision-recall rate')\n",
    "plt.legend()\n",
    "\n",
    "plt.xlim(0.8, 1.02);"
   ]
  },
  {
   "cell_type": "markdown",
   "id": "0566c9fe",
   "metadata": {},
   "source": [
    "Model performances are similar!"
   ]
  },
  {
   "cell_type": "markdown",
   "id": "150ea121",
   "metadata": {},
   "source": [
    "The results obtained with the optimized neural network are comparable with the ones obtained with generative classifiers."
   ]
  },
  {
   "cell_type": "markdown",
   "id": "88d5b043",
   "metadata": {},
   "source": [
    "### Pytorch: NN with dropout"
   ]
  },
  {
   "cell_type": "code",
   "execution_count": 164,
   "id": "8e032115",
   "metadata": {},
   "outputs": [
    {
     "name": "stdout",
     "output_type": "stream",
     "text": [
      "\u001b[33mDEPRECATION: Configuring installation scheme with distutils config files is deprecated and will no longer work in the near future. If you are using a Homebrew or Linuxbrew Python, please see discussion at https://github.com/Homebrew/homebrew-core/issues/76621\u001b[0m\u001b[33m\n",
      "\u001b[0mCollecting optuna\n",
      "  Downloading optuna-3.0.5-py3-none-any.whl (348 kB)\n",
      "\u001b[2K     \u001b[90m━━━━━━━━━━━━━━━━━━━━━━━━━━━━━━━━━━━━━━━\u001b[0m \u001b[32m348.5/348.5 kB\u001b[0m \u001b[31m5.5 MB/s\u001b[0m eta \u001b[36m0:00:00\u001b[0m00:01\u001b[0m\n",
      "\u001b[?25hRequirement already satisfied: packaging>=20.0 in /usr/local/lib/python3.9/site-packages (from optuna) (21.3)\n",
      "Collecting cliff\n",
      "  Downloading cliff-4.1.0-py3-none-any.whl (81 kB)\n",
      "\u001b[2K     \u001b[90m━━━━━━━━━━━━━━━━━━━━━━━━━━━━━━━━━━━━━━━━\u001b[0m \u001b[32m81.0/81.0 kB\u001b[0m \u001b[31m2.3 MB/s\u001b[0m eta \u001b[36m0:00:00\u001b[0m\n",
      "\u001b[?25hRequirement already satisfied: importlib-metadata<5.0.0 in /usr/local/lib/python3.9/site-packages (from optuna) (4.11.3)\n",
      "Requirement already satisfied: numpy in /usr/local/lib/python3.9/site-packages (from optuna) (1.22.3)\n",
      "Collecting cmaes>=0.8.2\n",
      "  Downloading cmaes-0.9.1-py3-none-any.whl (21 kB)\n",
      "Requirement already satisfied: tqdm in /usr/local/lib/python3.9/site-packages (from optuna) (4.64.0)\n",
      "Requirement already satisfied: PyYAML in /usr/local/lib/python3.9/site-packages (from optuna) (6.0)\n",
      "Collecting colorlog\n",
      "  Downloading colorlog-6.7.0-py2.py3-none-any.whl (11 kB)\n",
      "Collecting alembic>=1.5.0\n",
      "  Downloading alembic-1.9.1-py3-none-any.whl (210 kB)\n",
      "\u001b[2K     \u001b[90m━━━━━━━━━━━━━━━━━━━━━━━━━━━━━━━━━━━━━━━\u001b[0m \u001b[32m210.4/210.4 kB\u001b[0m \u001b[31m4.6 MB/s\u001b[0m eta \u001b[36m0:00:00\u001b[0ma \u001b[36m0:00:01\u001b[0m\n",
      "\u001b[?25hRequirement already satisfied: scipy<1.9.0,>=1.7.0 in /usr/local/lib/python3.9/site-packages (from optuna) (1.8.0)\n",
      "Collecting sqlalchemy>=1.3.0\n",
      "  Downloading SQLAlchemy-1.4.46.tar.gz (8.5 MB)\n",
      "\u001b[2K     \u001b[90m━━━━━━━━━━━━━━━━━━━━━━━━━━━━━━━━━━━━━━━━\u001b[0m \u001b[32m8.5/8.5 MB\u001b[0m \u001b[31m9.4 MB/s\u001b[0m eta \u001b[36m0:00:00\u001b[0m:00:01\u001b[0m00:01\u001b[0m\n",
      "\u001b[?25h  Preparing metadata (setup.py) ... \u001b[?25ldone\n",
      "\u001b[?25hCollecting Mako\n",
      "  Downloading Mako-1.2.4-py3-none-any.whl (78 kB)\n",
      "\u001b[2K     \u001b[90m━━━━━━━━━━━━━━━━━━━━━━━━━━━━━━━━━━━━━━━━\u001b[0m \u001b[32m78.7/78.7 kB\u001b[0m \u001b[31m2.3 MB/s\u001b[0m eta \u001b[36m0:00:00\u001b[0m\n",
      "\u001b[?25hRequirement already satisfied: zipp>=0.5 in /usr/local/lib/python3.9/site-packages (from importlib-metadata<5.0.0->optuna) (3.8.0)\n",
      "Requirement already satisfied: pyparsing!=3.0.5,>=2.0.2 in /usr/local/lib/python3.9/site-packages (from packaging>=20.0->optuna) (3.0.7)\n",
      "Collecting greenlet!=0.4.17\n",
      "  Downloading greenlet-2.0.1-cp39-cp39-macosx_10_15_x86_64.whl (203 kB)\n",
      "\u001b[2K     \u001b[90m━━━━━━━━━━━━━━━━━━━━━━━━━━━━━━━━━━━━━━━\u001b[0m \u001b[32m203.5/203.5 kB\u001b[0m \u001b[31m4.9 MB/s\u001b[0m eta \u001b[36m0:00:00\u001b[0ma \u001b[36m0:00:01\u001b[0m\n",
      "\u001b[?25hCollecting autopage>=0.4.0\n",
      "  Downloading autopage-0.5.1-py3-none-any.whl (29 kB)\n",
      "Collecting stevedore>=2.0.1\n",
      "  Downloading stevedore-4.1.1-py3-none-any.whl (50 kB)\n",
      "\u001b[2K     \u001b[90m━━━━━━━━━━━━━━━━━━━━━━━━━━━━━━━━━━━━━━━━\u001b[0m \u001b[32m50.0/50.0 kB\u001b[0m \u001b[31m1.2 MB/s\u001b[0m eta \u001b[36m0:00:00\u001b[0m\n",
      "\u001b[?25hCollecting PrettyTable>=0.7.2\n",
      "  Downloading prettytable-3.6.0-py3-none-any.whl (27 kB)\n",
      "Collecting cmd2>=1.0.0\n",
      "  Downloading cmd2-2.4.2-py3-none-any.whl (147 kB)\n",
      "\u001b[2K     \u001b[90m━━━━━━━━━━━━━━━━━━━━━━━━━━━━━━━━━━━━━━━\u001b[0m \u001b[32m147.1/147.1 kB\u001b[0m \u001b[31m4.2 MB/s\u001b[0m eta \u001b[36m0:00:00\u001b[0m\n",
      "\u001b[?25hRequirement already satisfied: wcwidth>=0.1.7 in /usr/local/lib/python3.9/site-packages (from cmd2>=1.0.0->cliff->optuna) (0.2.5)\n",
      "Requirement already satisfied: attrs>=16.3.0 in /usr/local/lib/python3.9/site-packages (from cmd2>=1.0.0->cliff->optuna) (21.4.0)\n",
      "Collecting pyperclip>=1.6\n",
      "  Downloading pyperclip-1.8.2.tar.gz (20 kB)\n",
      "  Preparing metadata (setup.py) ... \u001b[?25ldone\n",
      "\u001b[?25hCollecting pbr!=2.1.0,>=2.0.0\n",
      "  Downloading pbr-5.11.1-py2.py3-none-any.whl (112 kB)\n",
      "\u001b[2K     \u001b[90m━━━━━━━━━━━━━━━━━━━━━━━━━━━━━━━━━━━━━━━\u001b[0m \u001b[32m112.7/112.7 kB\u001b[0m \u001b[31m3.3 MB/s\u001b[0m eta \u001b[36m0:00:00\u001b[0m\n",
      "\u001b[?25hRequirement already satisfied: MarkupSafe>=0.9.2 in /usr/local/lib/python3.9/site-packages (from Mako->alembic>=1.5.0->optuna) (2.1.0)\n",
      "Building wheels for collected packages: sqlalchemy, pyperclip\n",
      "  Building wheel for sqlalchemy (setup.py) ... \u001b[?25ldone\n",
      "\u001b[?25h  Created wheel for sqlalchemy: filename=SQLAlchemy-1.4.46-cp39-cp39-macosx_10_15_x86_64.whl size=1561959 sha256=fed7493a108a7dee42f40956e67f5e8a2e04e847420b13a03a23feaa5ed2c228\n",
      "  Stored in directory: /Users/giuliamariaborro/Library/Caches/pip/wheels/3c/99/65/57cf5a0ec6e7f3b803a68d31694501e168997e03e80adc903d\n",
      "  Building wheel for pyperclip (setup.py) ... \u001b[?25ldone\n",
      "\u001b[?25h  Created wheel for pyperclip: filename=pyperclip-1.8.2-py3-none-any.whl size=11136 sha256=a613f372205544969eb77103c5b5b1fa0830dfa8ee180d350db535845c58c9aa\n",
      "  Stored in directory: /Users/giuliamariaborro/Library/Caches/pip/wheels/0c/09/9e/49e21a6840ef7955b06d47394afef0058f0378c0914e48b8b8\n",
      "Successfully built sqlalchemy pyperclip\n",
      "Installing collected packages: pyperclip, PrettyTable, pbr, Mako, greenlet, colorlog, cmd2, cmaes, autopage, stevedore, sqlalchemy, cliff, alembic, optuna\n",
      "\u001b[33m  DEPRECATION: Configuring installation scheme with distutils config files is deprecated and will no longer work in the near future. If you are using a Homebrew or Linuxbrew Python, please see discussion at https://github.com/Homebrew/homebrew-core/issues/76621\u001b[0m\u001b[33m\n",
      "\u001b[0m\u001b[33m  DEPRECATION: Configuring installation scheme with distutils config files is deprecated and will no longer work in the near future. If you are using a Homebrew or Linuxbrew Python, please see discussion at https://github.com/Homebrew/homebrew-core/issues/76621\u001b[0m\u001b[33m\n",
      "\u001b[0m\u001b[33m  DEPRECATION: Configuring installation scheme with distutils config files is deprecated and will no longer work in the near future. If you are using a Homebrew or Linuxbrew Python, please see discussion at https://github.com/Homebrew/homebrew-core/issues/76621\u001b[0m\u001b[33m\n",
      "\u001b[0m\u001b[33m  DEPRECATION: Configuring installation scheme with distutils config files is deprecated and will no longer work in the near future. If you are using a Homebrew or Linuxbrew Python, please see discussion at https://github.com/Homebrew/homebrew-core/issues/76621\u001b[0m\u001b[33m\n",
      "\u001b[0m\u001b[33m  DEPRECATION: Configuring installation scheme with distutils config files is deprecated and will no longer work in the near future. If you are using a Homebrew or Linuxbrew Python, please see discussion at https://github.com/Homebrew/homebrew-core/issues/76621\u001b[0m\u001b[33m\n",
      "\u001b[0m\u001b[33m  DEPRECATION: Configuring installation scheme with distutils config files is deprecated and will no longer work in the near future. If you are using a Homebrew or Linuxbrew Python, please see discussion at https://github.com/Homebrew/homebrew-core/issues/76621\u001b[0m\u001b[33m\n",
      "\u001b[0m\u001b[33m  DEPRECATION: Configuring installation scheme with distutils config files is deprecated and will no longer work in the near future. If you are using a Homebrew or Linuxbrew Python, please see discussion at https://github.com/Homebrew/homebrew-core/issues/76621\u001b[0m\u001b[33m\n",
      "\u001b[0m\u001b[33m  DEPRECATION: Configuring installation scheme with distutils config files is deprecated and will no longer work in the near future. If you are using a Homebrew or Linuxbrew Python, please see discussion at https://github.com/Homebrew/homebrew-core/issues/76621\u001b[0m\u001b[33m\n",
      "\u001b[0m\u001b[33m  DEPRECATION: Configuring installation scheme with distutils config files is deprecated and will no longer work in the near future. If you are using a Homebrew or Linuxbrew Python, please see discussion at https://github.com/Homebrew/homebrew-core/issues/76621\u001b[0m\u001b[33m\n",
      "\u001b[0m\u001b[33m  DEPRECATION: Configuring installation scheme with distutils config files is deprecated and will no longer work in the near future. If you are using a Homebrew or Linuxbrew Python, please see discussion at https://github.com/Homebrew/homebrew-core/issues/76621\u001b[0m\u001b[33m\n",
      "\u001b[0m\u001b[33m  DEPRECATION: Configuring installation scheme with distutils config files is deprecated and will no longer work in the near future. If you are using a Homebrew or Linuxbrew Python, please see discussion at https://github.com/Homebrew/homebrew-core/issues/76621\u001b[0m\u001b[33m\n",
      "\u001b[0m\u001b[33m  DEPRECATION: Configuring installation scheme with distutils config files is deprecated and will no longer work in the near future. If you are using a Homebrew or Linuxbrew Python, please see discussion at https://github.com/Homebrew/homebrew-core/issues/76621\u001b[0m\u001b[33m\n",
      "\u001b[0m\u001b[33m  DEPRECATION: Configuring installation scheme with distutils config files is deprecated and will no longer work in the near future. If you are using a Homebrew or Linuxbrew Python, please see discussion at https://github.com/Homebrew/homebrew-core/issues/76621\u001b[0m\u001b[33m\n",
      "\u001b[0m\u001b[33m  DEPRECATION: Configuring installation scheme with distutils config files is deprecated and will no longer work in the near future. If you are using a Homebrew or Linuxbrew Python, please see discussion at https://github.com/Homebrew/homebrew-core/issues/76621\u001b[0m\u001b[33m\n",
      "\u001b[0m\u001b[33mDEPRECATION: Configuring installation scheme with distutils config files is deprecated and will no longer work in the near future. If you are using a Homebrew or Linuxbrew Python, please see discussion at https://github.com/Homebrew/homebrew-core/issues/76621\u001b[0m\u001b[33m\n",
      "\u001b[0mSuccessfully installed Mako-1.2.4 PrettyTable-3.6.0 alembic-1.9.1 autopage-0.5.1 cliff-4.1.0 cmaes-0.9.1 cmd2-2.4.2 colorlog-6.7.0 greenlet-2.0.1 optuna-3.0.5 pbr-5.11.1 pyperclip-1.8.2 sqlalchemy-1.4.46 stevedore-4.1.1\n",
      "\u001b[33mWARNING: There was an error checking the latest version of pip.\u001b[0m\u001b[33m\n",
      "\u001b[0mNote: you may need to restart the kernel to use updated packages.\n"
     ]
    }
   ],
   "source": [
    "pip install optuna"
   ]
  },
  {
   "cell_type": "code",
   "execution_count": 126,
   "id": "f055b85d",
   "metadata": {
    "scrolled": true
   },
   "outputs": [
    {
     "name": "stdout",
     "output_type": "stream",
     "text": [
      "\u001b[33mDEPRECATION: Configuring installation scheme with distutils config files is deprecated and will no longer work in the near future. If you are using a Homebrew or Linuxbrew Python, please see discussion at https://github.com/Homebrew/homebrew-core/issues/76621\u001b[0m\u001b[33m\n",
      "\u001b[0mCollecting plotly\n",
      "  Downloading plotly-5.11.0-py2.py3-none-any.whl (15.3 MB)\n",
      "\u001b[2K     \u001b[90m━━━━━━━━━━━━━━━━━━━━━━━━━━━━━━━━━━━━━━━━\u001b[0m \u001b[32m15.3/15.3 MB\u001b[0m \u001b[31m10.0 MB/s\u001b[0m eta \u001b[36m0:00:00\u001b[0m00:01\u001b[0m00:01\u001b[0m\n",
      "\u001b[?25hCollecting tenacity>=6.2.0\n",
      "  Downloading tenacity-8.1.0-py3-none-any.whl (23 kB)\n",
      "Installing collected packages: tenacity, plotly\n",
      "\u001b[33m  DEPRECATION: Configuring installation scheme with distutils config files is deprecated and will no longer work in the near future. If you are using a Homebrew or Linuxbrew Python, please see discussion at https://github.com/Homebrew/homebrew-core/issues/76621\u001b[0m\u001b[33m\n",
      "\u001b[0m\u001b[33m  DEPRECATION: Configuring installation scheme with distutils config files is deprecated and will no longer work in the near future. If you are using a Homebrew or Linuxbrew Python, please see discussion at https://github.com/Homebrew/homebrew-core/issues/76621\u001b[0m\u001b[33m\n",
      "\u001b[0m\u001b[33mDEPRECATION: Configuring installation scheme with distutils config files is deprecated and will no longer work in the near future. If you are using a Homebrew or Linuxbrew Python, please see discussion at https://github.com/Homebrew/homebrew-core/issues/76621\u001b[0m\u001b[33m\n",
      "\u001b[0mSuccessfully installed plotly-5.11.0 tenacity-8.1.0\n",
      "\u001b[33mWARNING: There was an error checking the latest version of pip.\u001b[0m\u001b[33m\n",
      "\u001b[0mNote: you may need to restart the kernel to use updated packages.\n"
     ]
    }
   ],
   "source": [
    "pip install plotly"
   ]
  },
  {
   "cell_type": "code",
   "execution_count": 23,
   "id": "8bb7acd4",
   "metadata": {},
   "outputs": [],
   "source": [
    "import torch\n",
    "import torch.nn as nn\n",
    "#import torch.nn.functional as F\n",
    "#import torch.utils.data as torchdata\n",
    "from torch.utils.data import Dataset, DataLoader\n",
    "import joblib\n",
    "import optuna"
   ]
  },
  {
   "cell_type": "code",
   "execution_count": 24,
   "id": "8984ecf6",
   "metadata": {},
   "outputs": [],
   "source": [
    "# train data\n",
    "class TrainData(Dataset):\n",
    "  \n",
    "    def __init__(self, X_data, y_data):\n",
    "        self.X_data = X_data\n",
    "        self.y_data = y_data\n",
    "        \n",
    "    def __getitem__(self, index):\n",
    "        return self.X_data[index], self.y_data[index]\n",
    "        \n",
    "    def __len__ (self):\n",
    "        return len(self.X_data)\n",
    "\n",
    "\n",
    "# test data    \n",
    "class TestData(Dataset):\n",
    "    \n",
    "    def __init__(self, X_data):\n",
    "        self.X_data = X_data\n",
    "        \n",
    "    def __getitem__(self, index):\n",
    "        return self.X_data[index]\n",
    "        \n",
    "    def __len__ (self):\n",
    "        return len(self.X_data)"
   ]
  },
  {
   "cell_type": "code",
   "execution_count": 25,
   "id": "04962a13",
   "metadata": {},
   "outputs": [],
   "source": [
    "'''\n",
    "NN with the same number of neurons per each layer.\n",
    "'''\n",
    "\n",
    "\n",
    "# define structure of NN\n",
    "class Net(nn.Module):\n",
    "    \n",
    "    '''\n",
    "     define the building blocks of our model as class variables\n",
    "    '''\n",
    "    def __init__(self, input_size, Nhidden, hidden_size, num_classes, dropout_rate):\n",
    "        \n",
    "        super(Net, self).__init__()\n",
    "        \n",
    "        # list of layers\n",
    "        self.layers = nn.ModuleList()\n",
    "        \n",
    "        # input\n",
    "        actual_input = input_size\n",
    "        \n",
    "        # hidden layers\n",
    "        for n in range(Nhidden):\n",
    "           \n",
    "            self.layers.append(nn.Linear(actual_input, hidden_size))\n",
    "            self.layers.append(nn.Dropout(p=dropout_rate))\n",
    "            self.layers.append(nn.ReLU())\n",
    "            actual_input = hidden_size\n",
    "            \n",
    "        # output     \n",
    "        self.layers.append(nn.Linear(actual_input, num_classes))\n",
    "        self.layers.append(nn.Sigmoid())\n",
    "            \n",
    "            \n",
    "    '''\n",
    "     specifies how the data fed into the model needs to be processed in order to produce the output\n",
    "    '''\n",
    "    def forward(self, x):\n",
    "        \n",
    "        actual_data = x\n",
    "        \n",
    "        for layer in self.layers:\n",
    "            out = layer(actual_data)\n",
    "            actual_data = out\n",
    "        \n",
    "        return out"
   ]
  },
  {
   "cell_type": "markdown",
   "id": "420aa4d5",
   "metadata": {},
   "source": [
    "##### training the first model"
   ]
  },
  {
   "cell_type": "code",
   "execution_count": 26,
   "id": "74d6885f",
   "metadata": {},
   "outputs": [],
   "source": [
    "# X and y have already cleaned data\n",
    "X_train, X_test, y_train, y_test = train_test_split(X, y, test_size=0.1, random_state=8)\n",
    "#X_train, X_val, y_train, y_val = train_test_split(X_train, y_train, test_size=0.3, random_state=8)\n",
    "\n",
    "batch_size = 64   \n",
    "\n",
    "train_data = TrainData(torch.FloatTensor(X_train), torch.FloatTensor(y_train))  #torch.tensor is like np.array\n",
    "test_data = TestData(torch.FloatTensor(X_test))\n",
    "#val_data = TrainData(torch.FloatTensor(X_val), torch.FloatTensor(y_val))\n",
    "\n",
    "train_loader = torch.utils.data.DataLoader(train_data, batch_size=batch_size, shuffle=True)\n",
    "test_loader = torch.utils.data.DataLoader(test_data)\n",
    "#val_loader = torch.utils.data.DataLoader(val_data)"
   ]
  },
  {
   "cell_type": "code",
   "execution_count": 27,
   "id": "1330173a",
   "metadata": {},
   "outputs": [],
   "source": [
    "def compute_accuracy(y_pred, y_test):\n",
    "    \n",
    "    y_pred_tag = torch.round(y_pred)\n",
    "    correct_results_sum = (y_pred_tag == y_test).sum().float()\n",
    "    acc = correct_results_sum/y_test.shape[0]\n",
    "    acc = acc * 100\n",
    "    \n",
    "    return acc\n",
    "\n",
    "\n",
    "'''\n",
    "TRAIN STEP: trains the nn with train data and returns the mean loss and accuracy during epochs \n",
    "'''\n",
    "\n",
    "def train_NN(model, train_loader, criterion, optimizer):\n",
    "    \n",
    "    # set the model to train mode\n",
    "    model.train() \n",
    "\n",
    "    loss_train = 0\n",
    "    acc_train = 0\n",
    "        \n",
    "    for X_batch, y_batch in train_loader:\n",
    "            \n",
    "        y_pred = model(X_batch)\n",
    "        loss = criterion(y_pred, y_batch.unsqueeze(1))\n",
    "        acc = compute_accuracy(y_pred, y_batch.unsqueeze(1))\n",
    "            \n",
    "        # Modification of parameters\n",
    "        optimizer.zero_grad()              # Reset the gradients previously accumulated\n",
    "        loss.backward()                    # Compute gradient of the loss \n",
    "        optimizer.step()                   # Update the weights \n",
    "        \n",
    "        loss_train += loss.item()\n",
    "        acc_train += acc.item()\n",
    "            \n",
    "    # saving average loss and accuracy for a single epoch\n",
    "    mean_loss = loss_train/len(train_loader)   \n",
    "    mean_acc = acc_train/len(train_loader)\n",
    "        \n",
    "    return  mean_loss, mean_acc\n",
    "\n",
    "\n",
    "'''\n",
    "VALIDATION STEP: uses the trained model to evaluate the mean loss and accuracy during epochs\n",
    "'''\n",
    "\n",
    "def validation(model, val_loader):\n",
    "    \n",
    "    model.eval() \n",
    "    \n",
    "    loss_val = 0\n",
    "    acc_val = 0\n",
    "    \n",
    "    with torch.no_grad():\n",
    "        \n",
    "        for X_batch, y_batch in val_loader:\n",
    "\n",
    "            y_pred = model(X_batch)\n",
    "\n",
    "            loss = criterion(y_pred, y_batch.unsqueeze(1))\n",
    "            acc = compute_accuracy(y_pred, y_batch.unsqueeze(1))\n",
    "        \n",
    "            loss_val += loss.item()\n",
    "            acc_val += acc.item()\n",
    "    \n",
    "    mean_loss = loss_val/len(val_loader)   \n",
    "    mean_acc = acc_val/len(val_loader)\n",
    "    \n",
    "    return  mean_loss, mean_acc"
   ]
  },
  {
   "cell_type": "code",
   "execution_count": 28,
   "id": "df7b9db8",
   "metadata": {},
   "outputs": [],
   "source": [
    "# MODEL PARAMETERS\n",
    "input_size = 4\n",
    "Nhidden = 1\n",
    "hidden_size = 5\n",
    "num_classes = 1\n",
    "dropout_rate = 0.   # for now no dropout\n",
    "\n",
    "model = Net(input_size, Nhidden, hidden_size, num_classes, dropout_rate)\n",
    "#print(model.parameters)\n",
    "\n",
    "lr = 1e-3  \n",
    "nepochs = 20\n",
    "\n",
    "# LOSS FUNCTION AND OPTIMIZER\n",
    "criterion = torch.nn.MSELoss(reduction='mean') \n",
    "optimizer = torch.optim.Adam(model.parameters(), lr=lr)\n",
    "\n",
    "\n",
    "mean_loss = []\n",
    "mean_acc = []\n",
    "for epoch in range(1, nepochs + 1):  \n",
    "    loss, acc = train_NN(model, train_loader, criterion, optimizer)\n",
    "    mean_loss.append(loss)\n",
    "    mean_acc.append(acc);"
   ]
  },
  {
   "cell_type": "code",
   "execution_count": 29,
   "id": "70681909",
   "metadata": {},
   "outputs": [
    {
     "data": {
      "image/png": "[encoded data removed]",
      "text/plain": [
       "<Figure size 1440x504 with 2 Axes>"
      ]
     },
     "metadata": {
      "needs_background": "light"
     },
     "output_type": "display_data"
    }
   ],
   "source": [
    "fig = plt.figure(figsize=(20,7))\n",
    "\n",
    "ax1 = fig.add_subplot(121)\n",
    "plt.plot(mean_loss,'-', label='training average loss')\n",
    "plt.scatter(np.arange(0, nepochs), mean_loss)\n",
    "plt.ylabel('training average loss')\n",
    "plt.xlabel('epoch')\n",
    "plt.title('Training Loss')\n",
    "\n",
    "ax2 = fig.add_subplot(122)\n",
    "plt.plot(mean_acc,'-', label='training average acc')\n",
    "plt.scatter(np.arange(0, nepochs), mean_acc)\n",
    "plt.ylabel('training average acc')\n",
    "plt.xlabel('epoch')\n",
    "plt.title('Training Accuracy');"
   ]
  },
  {
   "cell_type": "markdown",
   "id": "d19234da",
   "metadata": {},
   "source": [
    "##### test the first model"
   ]
  },
  {
   "cell_type": "code",
   "execution_count": 98,
   "id": "7aa7e7a6",
   "metadata": {},
   "outputs": [
    {
     "name": "stdout",
     "output_type": "stream",
     "text": [
      "\n",
      " accuracy 0.9865333333333334\n",
      "\n",
      " confusion matrix \n",
      " [[12763    82]\n",
      " [  120  2035]]\n"
     ]
    }
   ],
   "source": [
    "probs = model(torch.from_numpy(X_test.astype(np.float32)))\n",
    "pred = torch.round(probs).detach().numpy()\n",
    "probs = probs.detach().numpy()\n",
    "\n",
    "C = confusion_matrix(y_test, pred)\n",
    "accuracy = accuracy_score(y_test, pred)\n",
    "pr, rec, t = precision_recall_curve(y_test, probs)\n",
    "fpr, tpr, thresholds = roc_curve(y_test, probs)\n",
    "\n",
    "print('\\n accuracy', accuracy)\n",
    "print('\\n confusion matrix \\n', C)"
   ]
  },
  {
   "cell_type": "markdown",
   "id": "933ee99d",
   "metadata": {},
   "source": [
    "#### Optimization of hyperparameters with optuna"
   ]
  },
  {
   "cell_type": "code",
   "execution_count": 59,
   "id": "aca1f405",
   "metadata": {},
   "outputs": [],
   "source": [
    "# X and y have already cleaned data\n",
    "X_train, X_test, y_train, y_test = train_test_split(X, y, test_size=0.1, random_state=8)\n",
    "X_train, X_val, y_train, y_val = train_test_split(X_train, y_train, test_size=0.1, random_state=8)\n",
    "\n",
    "batch_size = 64   \n",
    "\n",
    "train_data = TrainData(torch.FloatTensor(X_train), torch.FloatTensor(y_train))  #torch.tensor is like np.array\n",
    "test_data = TestData(torch.FloatTensor(X_test))\n",
    "val_data = TrainData(torch.FloatTensor(X_val), torch.FloatTensor(y_val))\n",
    "\n",
    "train_loader = torch.utils.data.DataLoader(train_data, batch_size=batch_size, shuffle=True)\n",
    "test_loader = torch.utils.data.DataLoader(test_data)\n",
    "val_loader = torch.utils.data.DataLoader(val_data)"
   ]
  },
  {
   "cell_type": "code",
   "execution_count": 60,
   "id": "9ad1678e",
   "metadata": {},
   "outputs": [],
   "source": [
    "def training(model, train_loader, val_loader, criterion, optimizer, epochs):\n",
    "    \n",
    "    for epoch in range(1, epochs + 1):        \n",
    "        \n",
    "        model.train()\n",
    "        \n",
    "        for X_batch, y_batch in train_loader:\n",
    "\n",
    "            y_prediction = model(X_batch)\n",
    "            loss = criterion(y_prediction, y_batch.unsqueeze(1)) \n",
    "            \n",
    "            optimizer.zero_grad()\n",
    "            loss.backward()\n",
    "            optimizer.step()\n",
    "        \n",
    "        acc_val = 0\n",
    "        model.eval() \n",
    "        with torch.no_grad():\n",
    "            for X_batch, y_batch in val_loader:\n",
    "                X_batch, y_batch = X_batch, y_batch\n",
    "\n",
    "                y_prediction = model(X_batch)\n",
    "                acc = compute_accuracy(y_prediction, y_batch.unsqueeze(1))\n",
    "                acc_val += acc.item()\n",
    "                \n",
    "    return acc_val/len(val_loader)\n",
    "\n",
    "\n",
    "\n",
    "# define objective function\n",
    "def optimization(trial):\n",
    "\n",
    "    # model\n",
    "    cfg = { 'seed' : 42,\n",
    "           'nepochs': 20,\n",
    "             'Nhidden' : trial.suggest_int('Nhidden', 1, 10, step = 1), \n",
    "             'hidden_size' : trial.suggest_int('hidden_size', 1, 100, step = 1), \n",
    "              'lr': trial.suggest_float('lr', 1e-4, 1e-2, log=True),         \n",
    "              'dropout_rate': trial.suggest_float('dropout', 0.1, 0.5, step=0.1),\n",
    "              }\n",
    "        \n",
    "        \n",
    "    torch.manual_seed(cfg['seed'])\n",
    "    model = Net(input_size, cfg['Nhidden'], cfg['hidden_size'], num_classes, cfg['dropout_rate'])\n",
    "    criterion = torch.nn.MSELoss(reduction='mean') \n",
    "    optimizer = torch.optim.Adam(model.parameters(), lr=cfg['lr'])\n",
    "\n",
    "    best_valid_acc = training(model, train_loader, val_loader, criterion, optimizer, \n",
    "                      epochs = cfg['nepochs'])\n",
    "\n",
    "    return best_valid_acc"
   ]
  },
  {
   "cell_type": "code",
   "execution_count": 62,
   "id": "231f0aca",
   "metadata": {},
   "outputs": [
    {
     "name": "stderr",
     "output_type": "stream",
     "text": [
      "\u001b[32m[I 2023-01-12 00:22:03,534]\u001b[0m A new study created in memory with name: no-name-2a92ff20-54bf-4d55-a0c9-0d5852a56a64\u001b[0m\n",
      "\u001b[32m[I 2023-01-12 00:23:13,461]\u001b[0m Trial 0 finished with value: 98.64444444444445 and parameters: {'Nhidden': 9, 'hidden_size': 49, 'lr': 0.0024034024847978245, 'dropout': 0.1}. Best is trial 0 with value: 98.64444444444445.\u001b[0m\n",
      "\u001b[32m[I 2023-01-12 00:23:36,150]\u001b[0m Trial 1 finished with value: 98.53333333333333 and parameters: {'Nhidden': 1, 'hidden_size': 25, 'lr': 0.0004845348221857252, 'dropout': 0.2}. Best is trial 0 with value: 98.64444444444445.\u001b[0m\n",
      "\u001b[32m[I 2023-01-12 00:24:25,292]\u001b[0m Trial 2 finished with value: 98.55555555555556 and parameters: {'Nhidden': 7, 'hidden_size': 30, 'lr': 0.002903109375590445, 'dropout': 0.5}. Best is trial 0 with value: 98.64444444444445.\u001b[0m\n",
      "\u001b[32m[I 2023-01-12 00:25:07,113]\u001b[0m Trial 3 finished with value: 98.57777777777778 and parameters: {'Nhidden': 5, 'hidden_size': 44, 'lr': 0.00042606868175316736, 'dropout': 0.5}. Best is trial 0 with value: 98.64444444444445.\u001b[0m\n",
      "\u001b[32m[I 2023-01-12 00:25:46,934]\u001b[0m Trial 4 finished with value: 98.68888888888888 and parameters: {'Nhidden': 4, 'hidden_size': 78, 'lr': 0.00016195057488884246, 'dropout': 0.2}. Best is trial 4 with value: 98.68888888888888.\u001b[0m\n",
      "\u001b[32m[I 2023-01-12 00:26:54,872]\u001b[0m Trial 5 finished with value: 98.71111111111111 and parameters: {'Nhidden': 8, 'hidden_size': 98, 'lr': 0.00011326730418252919, 'dropout': 0.1}. Best is trial 5 with value: 98.71111111111111.\u001b[0m\n",
      "\u001b[32m[I 2023-01-12 00:27:57,493]\u001b[0m Trial 6 finished with value: 98.68888888888888 and parameters: {'Nhidden': 8, 'hidden_size': 74, 'lr': 0.0002352115999396797, 'dropout': 0.2}. Best is trial 5 with value: 98.71111111111111.\u001b[0m\n",
      "\u001b[32m[I 2023-01-12 00:28:50,737]\u001b[0m Trial 7 finished with value: 98.5111111111111 and parameters: {'Nhidden': 8, 'hidden_size': 29, 'lr': 0.0024108510266286688, 'dropout': 0.4}. Best is trial 5 with value: 98.71111111111111.\u001b[0m\n",
      "\u001b[32m[I 2023-01-12 00:29:33,624]\u001b[0m Trial 8 finished with value: 98.64444444444445 and parameters: {'Nhidden': 5, 'hidden_size': 54, 'lr': 0.00024136572880660077, 'dropout': 0.2}. Best is trial 5 with value: 98.71111111111111.\u001b[0m\n",
      "\u001b[32m[I 2023-01-12 00:30:14,168]\u001b[0m Trial 9 finished with value: 98.57777777777778 and parameters: {'Nhidden': 5, 'hidden_size': 32, 'lr': 0.0022415689182484983, 'dropout': 0.5}. Best is trial 5 with value: 98.71111111111111.\u001b[0m\n"
     ]
    }
   ],
   "source": [
    "# the sampler determines the parameter values to be evaluated in a trial.\n",
    "sampler = optuna.samplers.TPESampler()\n",
    "    \n",
    "study = optuna.create_study(sampler=sampler, direction='maximize')\n",
    "study.optimize(func=optimization, n_trials=10)\n",
    "\n",
    "# save into one file.\n",
    "joblib.dump(study, './optuna_report1.pkl');"
   ]
  },
  {
   "cell_type": "code",
   "execution_count": 63,
   "id": "a3f829b2",
   "metadata": {},
   "outputs": [
    {
     "data": {
      "text/plain": [
       "FrozenTrial(number=5, values=[98.71111111111111], datetime_start=datetime.datetime(2023, 1, 12, 0, 25, 46, 935044), datetime_complete=datetime.datetime(2023, 1, 12, 0, 26, 54, 872699), params={'Nhidden': 8, 'hidden_size': 98, 'lr': 0.00011326730418252919, 'dropout': 0.1}, distributions={'Nhidden': IntDistribution(high=10, log=False, low=1, step=1), 'hidden_size': IntDistribution(high=100, log=False, low=1, step=1), 'lr': FloatDistribution(high=0.01, log=True, low=0.0001, step=None), 'dropout': FloatDistribution(high=0.5, log=False, low=0.1, step=0.1)}, user_attrs={}, system_attrs={}, intermediate_values={}, trial_id=5, state=TrialState.COMPLETE, value=None)"
      ]
     },
     "execution_count": 63,
     "metadata": {},
     "output_type": "execute_result"
    }
   ],
   "source": [
    "study.best_trial"
   ]
  },
  {
   "cell_type": "code",
   "execution_count": 100,
   "id": "2bded91d",
   "metadata": {},
   "outputs": [
    {
     "data": {
      "application/vnd.plotly.v1+json": {
       "config": {
        "plotlyServerURL": "https://plot.ly"
       },
       "data": [
        {
         "mode": "markers",
         "name": "Objective Value",
         "type": "scatter",
         "x": [
          0,
          1,
          2,
          3,
          4,
          5,
          6,
          7,
          8,
          9
         ],
         "y": [
          98.64444444444445,
          98.53333333333333,
          98.55555555555556,
          98.57777777777778,
          98.68888888888888,
          98.71111111111111,
          98.68888888888888,
          98.5111111111111,
          98.64444444444445,
          98.57777777777778
         ]
        },
        {
         "name": "Best Value",
         "type": "scatter",
         "x": [
          0,
          1,
          2,
          3,
          4,
          5,
          6,
          7,
          8,
          9
         ],
         "y": [
          98.64444444444445,
          98.64444444444445,
          98.64444444444445,
          98.64444444444445,
          98.68888888888888,
          98.71111111111111,
          98.71111111111111,
          98.71111111111111,
          98.71111111111111,
          98.71111111111111
         ]
        }
       ],
       "layout": {
        "template": {
         "data": {
          "bar": [
           {
            "error_x": {
             "color": "#2a3f5f"
            },
            "error_y": {
             "color": "#2a3f5f"
            },
            "marker": {
             "line": {
              "color": "#E5ECF6",
              "width": 0.5
             },
             "pattern": {
              "fillmode": "overlay",
              "size": 10,
              "solidity": 0.2
             }
            },
            "type": "bar"
           }
          ],
          "barpolar": [
           {
            "marker": {
             "line": {
              "color": "#E5ECF6",
              "width": 0.5
             },
             "pattern": {
              "fillmode": "overlay",
              "size": 10,
              "solidity": 0.2
             }
            },
            "type": "barpolar"
           }
          ],
          "carpet": [
           {
            "aaxis": {
             "endlinecolor": "#2a3f5f",
             "gridcolor": "white",
             "linecolor": "white",
             "minorgridcolor": "white",
             "startlinecolor": "#2a3f5f"
            },
            "baxis": {
             "endlinecolor": "#2a3f5f",
             "gridcolor": "white",
             "linecolor": "white",
             "minorgridcolor": "white",
             "startlinecolor": "#2a3f5f"
            },
            "type": "carpet"
           }
          ],
          "choropleth": [
           {
            "colorbar": {
             "outlinewidth": 0,
             "ticks": ""
            },
            "type": "choropleth"
           }
          ],
          "contour": [
           {
            "colorbar": {
             "outlinewidth": 0,
             "ticks": ""
            },
            "colorscale": [
             [
              0,
              "#0d0887"
             ],
             [
              0.1111111111111111,
              "#46039f"
             ],
             [
              0.2222222222222222,
              "#7201a8"
             ],
             [
              0.3333333333333333,
              "#9c179e"
             ],
             [
              0.4444444444444444,
              "#bd3786"
             ],
             [
              0.5555555555555556,
              "#d8576b"
             ],
             [
              0.6666666666666666,
              "#ed7953"
             ],
             [
              0.7777777777777778,
              "#fb9f3a"
             ],
             [
              0.8888888888888888,
              "#fdca26"
             ],
             [
              1,
              "#f0f921"
             ]
            ],
            "type": "contour"
           }
          ],
          "contourcarpet": [
           {
            "colorbar": {
             "outlinewidth": 0,
             "ticks": ""
            },
            "type": "contourcarpet"
           }
          ],
          "heatmap": [
           {
            "colorbar": {
             "outlinewidth": 0,
             "ticks": ""
            },
            "colorscale": [
             [
              0,
              "#0d0887"
             ],
             [
              0.1111111111111111,
              "#46039f"
             ],
             [
              0.2222222222222222,
              "#7201a8"
             ],
             [
              0.3333333333333333,
              "#9c179e"
             ],
             [
              0.4444444444444444,
              "#bd3786"
             ],
             [
              0.5555555555555556,
              "#d8576b"
             ],
             [
              0.6666666666666666,
              "#ed7953"
             ],
             [
              0.7777777777777778,
              "#fb9f3a"
             ],
             [
              0.8888888888888888,
              "#fdca26"
             ],
             [
              1,
              "#f0f921"
             ]
            ],
            "type": "heatmap"
           }
          ],
          "heatmapgl": [
           {
            "colorbar": {
             "outlinewidth": 0,
             "ticks": ""
            },
            "colorscale": [
             [
              0,
              "#0d0887"
             ],
             [
              0.1111111111111111,
              "#46039f"
             ],
             [
              0.2222222222222222,
              "#7201a8"
             ],
             [
              0.3333333333333333,
              "#9c179e"
             ],
             [
              0.4444444444444444,
              "#bd3786"
             ],
             [
              0.5555555555555556,
              "#d8576b"
             ],
             [
              0.6666666666666666,
              "#ed7953"
             ],
             [
              0.7777777777777778,
              "#fb9f3a"
             ],
             [
              0.8888888888888888,
              "#fdca26"
             ],
             [
              1,
              "#f0f921"
             ]
            ],
            "type": "heatmapgl"
           }
          ],
          "histogram": [
           {
            "marker": {
             "pattern": {
              "fillmode": "overlay",
              "size": 10,
              "solidity": 0.2
             }
            },
            "type": "histogram"
           }
          ],
          "histogram2d": [
           {
            "colorbar": {
             "outlinewidth": 0,
             "ticks": ""
            },
            "colorscale": [
             [
              0,
              "#0d0887"
             ],
             [
              0.1111111111111111,
              "#46039f"
             ],
             [
              0.2222222222222222,
              "#7201a8"
             ],
             [
              0.3333333333333333,
              "#9c179e"
             ],
             [
              0.4444444444444444,
              "#bd3786"
             ],
             [
              0.5555555555555556,
              "#d8576b"
             ],
             [
              0.6666666666666666,
              "#ed7953"
             ],
             [
              0.7777777777777778,
              "#fb9f3a"
             ],
             [
              0.8888888888888888,
              "#fdca26"
             ],
             [
              1,
              "#f0f921"
             ]
            ],
            "type": "histogram2d"
           }
          ],
          "histogram2dcontour": [
           {
            "colorbar": {
             "outlinewidth": 0,
             "ticks": ""
            },
            "colorscale": [
             [
              0,
              "#0d0887"
             ],
             [
              0.1111111111111111,
              "#46039f"
             ],
             [
              0.2222222222222222,
              "#7201a8"
             ],
             [
              0.3333333333333333,
              "#9c179e"
             ],
             [
              0.4444444444444444,
              "#bd3786"
             ],
             [
              0.5555555555555556,
              "#d8576b"
             ],
             [
              0.6666666666666666,
              "#ed7953"
             ],
             [
              0.7777777777777778,
              "#fb9f3a"
             ],
             [
              0.8888888888888888,
              "#fdca26"
             ],
             [
              1,
              "#f0f921"
             ]
            ],
            "type": "histogram2dcontour"
           }
          ],
          "mesh3d": [
           {
            "colorbar": {
             "outlinewidth": 0,
             "ticks": ""
            },
            "type": "mesh3d"
           }
          ],
          "parcoords": [
           {
            "line": {
             "colorbar": {
              "outlinewidth": 0,
              "ticks": ""
             }
            },
            "type": "parcoords"
           }
          ],
          "pie": [
           {
            "automargin": true,
            "type": "pie"
           }
          ],
          "scatter": [
           {
            "fillpattern": {
             "fillmode": "overlay",
             "size": 10,
             "solidity": 0.2
            },
            "type": "scatter"
           }
          ],
          "scatter3d": [
           {
            "line": {
             "colorbar": {
              "outlinewidth": 0,
              "ticks": ""
             }
            },
            "marker": {
             "colorbar": {
              "outlinewidth": 0,
              "ticks": ""
             }
            },
            "type": "scatter3d"
           }
          ],
          "scattercarpet": [
           {
            "marker": {
             "colorbar": {
              "outlinewidth": 0,
              "ticks": ""
             }
            },
            "type": "scattercarpet"
           }
          ],
          "scattergeo": [
           {
            "marker": {
             "colorbar": {
              "outlinewidth": 0,
              "ticks": ""
             }
            },
            "type": "scattergeo"
           }
          ],
          "scattergl": [
           {
            "marker": {
             "colorbar": {
              "outlinewidth": 0,
              "ticks": ""
             }
            },
            "type": "scattergl"
           }
          ],
          "scattermapbox": [
           {
            "marker": {
             "colorbar": {
              "outlinewidth": 0,
              "ticks": ""
             }
            },
            "type": "scattermapbox"
           }
          ],
          "scatterpolar": [
           {
            "marker": {
             "colorbar": {
              "outlinewidth": 0,
              "ticks": ""
             }
            },
            "type": "scatterpolar"
           }
          ],
          "scatterpolargl": [
           {
            "marker": {
             "colorbar": {
              "outlinewidth": 0,
              "ticks": ""
             }
            },
            "type": "scatterpolargl"
           }
          ],
          "scatterternary": [
           {
            "marker": {
             "colorbar": {
              "outlinewidth": 0,
              "ticks": ""
             }
            },
            "type": "scatterternary"
           }
          ],
          "surface": [
           {
            "colorbar": {
             "outlinewidth": 0,
             "ticks": ""
            },
            "colorscale": [
             [
              0,
              "#0d0887"
             ],
             [
              0.1111111111111111,
              "#46039f"
             ],
             [
              0.2222222222222222,
              "#7201a8"
             ],
             [
              0.3333333333333333,
              "#9c179e"
             ],
             [
              0.4444444444444444,
              "#bd3786"
             ],
             [
              0.5555555555555556,
              "#d8576b"
             ],
             [
              0.6666666666666666,
              "#ed7953"
             ],
             [
              0.7777777777777778,
              "#fb9f3a"
             ],
             [
              0.8888888888888888,
              "#fdca26"
             ],
             [
              1,
              "#f0f921"
             ]
            ],
            "type": "surface"
           }
          ],
          "table": [
           {
            "cells": {
             "fill": {
              "color": "#EBF0F8"
             },
             "line": {
              "color": "white"
             }
            },
            "header": {
             "fill": {
              "color": "#C8D4E3"
             },
             "line": {
              "color": "white"
             }
            },
            "type": "table"
           }
          ]
         },
         "layout": {
          "annotationdefaults": {
           "arrowcolor": "#2a3f5f",
           "arrowhead": 0,
           "arrowwidth": 1
          },
          "autotypenumbers": "strict",
          "coloraxis": {
           "colorbar": {
            "outlinewidth": 0,
            "ticks": ""
           }
          },
          "colorscale": {
           "diverging": [
            [
             0,
             "#8e0152"
            ],
            [
             0.1,
             "#c51b7d"
            ],
            [
             0.2,
             "#de77ae"
            ],
            [
             0.3,
             "#f1b6da"
            ],
            [
             0.4,
             "#fde0ef"
            ],
            [
             0.5,
             "#f7f7f7"
            ],
            [
             0.6,
             "#e6f5d0"
            ],
            [
             0.7,
             "#b8e186"
            ],
            [
             0.8,
             "#7fbc41"
            ],
            [
             0.9,
             "#4d9221"
            ],
            [
             1,
             "#276419"
            ]
           ],
           "sequential": [
            [
             0,
             "#0d0887"
            ],
            [
             0.1111111111111111,
             "#46039f"
            ],
            [
             0.2222222222222222,
             "#7201a8"
            ],
            [
             0.3333333333333333,
             "#9c179e"
            ],
            [
             0.4444444444444444,
             "#bd3786"
            ],
            [
             0.5555555555555556,
             "#d8576b"
            ],
            [
             0.6666666666666666,
             "#ed7953"
            ],
            [
             0.7777777777777778,
             "#fb9f3a"
            ],
            [
             0.8888888888888888,
             "#fdca26"
            ],
            [
             1,
             "#f0f921"
            ]
           ],
           "sequentialminus": [
            [
             0,
             "#0d0887"
            ],
            [
             0.1111111111111111,
             "#46039f"
            ],
            [
             0.2222222222222222,
             "#7201a8"
            ],
            [
             0.3333333333333333,
             "#9c179e"
            ],
            [
             0.4444444444444444,
             "#bd3786"
            ],
            [
             0.5555555555555556,
             "#d8576b"
            ],
            [
             0.6666666666666666,
             "#ed7953"
            ],
            [
             0.7777777777777778,
             "#fb9f3a"
            ],
            [
             0.8888888888888888,
             "#fdca26"
            ],
            [
             1,
             "#f0f921"
            ]
           ]
          },
          "colorway": [
           "#636efa",
           "#EF553B",
           "#00cc96",
           "#ab63fa",
           "#FFA15A",
           "#19d3f3",
           "#FF6692",
           "#B6E880",
           "#FF97FF",
           "#FECB52"
          ],
          "font": {
           "color": "#2a3f5f"
          },
          "geo": {
           "bgcolor": "white",
           "lakecolor": "white",
           "landcolor": "#E5ECF6",
           "showlakes": true,
           "showland": true,
           "subunitcolor": "white"
          },
          "hoverlabel": {
           "align": "left"
          },
          "hovermode": "closest",
          "mapbox": {
           "style": "light"
          },
          "paper_bgcolor": "white",
          "plot_bgcolor": "#E5ECF6",
          "polar": {
           "angularaxis": {
            "gridcolor": "white",
            "linecolor": "white",
            "ticks": ""
           },
           "bgcolor": "#E5ECF6",
           "radialaxis": {
            "gridcolor": "white",
            "linecolor": "white",
            "ticks": ""
           }
          },
          "scene": {
           "xaxis": {
            "backgroundcolor": "#E5ECF6",
            "gridcolor": "white",
            "gridwidth": 2,
            "linecolor": "white",
            "showbackground": true,
            "ticks": "",
            "zerolinecolor": "white"
           },
           "yaxis": {
            "backgroundcolor": "#E5ECF6",
            "gridcolor": "white",
            "gridwidth": 2,
            "linecolor": "white",
            "showbackground": true,
            "ticks": "",
            "zerolinecolor": "white"
           },
           "zaxis": {
            "backgroundcolor": "#E5ECF6",
            "gridcolor": "white",
            "gridwidth": 2,
            "linecolor": "white",
            "showbackground": true,
            "ticks": "",
            "zerolinecolor": "white"
           }
          },
          "shapedefaults": {
           "line": {
            "color": "#2a3f5f"
           }
          },
          "ternary": {
           "aaxis": {
            "gridcolor": "white",
            "linecolor": "white",
            "ticks": ""
           },
           "baxis": {
            "gridcolor": "white",
            "linecolor": "white",
            "ticks": ""
           },
           "bgcolor": "#E5ECF6",
           "caxis": {
            "gridcolor": "white",
            "linecolor": "white",
            "ticks": ""
           }
          },
          "title": {
           "x": 0.05
          },
          "xaxis": {
           "automargin": true,
           "gridcolor": "white",
           "linecolor": "white",
           "ticks": "",
           "title": {
            "standoff": 15
           },
           "zerolinecolor": "white",
           "zerolinewidth": 2
          },
          "yaxis": {
           "automargin": true,
           "gridcolor": "white",
           "linecolor": "white",
           "ticks": "",
           "title": {
            "standoff": 15
           },
           "zerolinecolor": "white",
           "zerolinewidth": 2
          }
         }
        },
        "title": {
         "text": "Optimization History Plot"
        },
        "xaxis": {
         "title": {
          "text": "Trial"
         }
        },
        "yaxis": {
         "title": {
          "text": "Objective Value"
         }
        }
       }
      },
      "text/html": [
       "<div>                            <div id=\"3bc06907-7bed-4ac7-af32-2969f162951c\" class=\"plotly-graph-div\" style=\"height:525px; width:100%;\"></div>            <script type=\"text/javascript\">                require([\"plotly\"], function(Plotly) {                    window.PLOTLYENV=window.PLOTLYENV || {};                                    if (document.getElementById(\"3bc06907-7bed-4ac7-af32-2969f162951c\")) {                    Plotly.newPlot(                        \"3bc06907-7bed-4ac7-af32-2969f162951c\",                        [{\"mode\":\"markers\",\"name\":\"Objective Value\",\"x\":[0,1,2,3,4,5,6,7,8,9],\"y\":[98.64444444444445,98.53333333333333,98.55555555555556,98.57777777777778,98.68888888888888,98.71111111111111,98.68888888888888,98.5111111111111,98.64444444444445,98.57777777777778],\"type\":\"scatter\"},{\"name\":\"Best Value\",\"x\":[0,1,2,3,4,5,6,7,8,9],\"y\":[98.64444444444445,98.64444444444445,98.64444444444445,98.64444444444445,98.68888888888888,98.71111111111111,98.71111111111111,98.71111111111111,98.71111111111111,98.71111111111111],\"type\":\"scatter\"}],                        {\"title\":{\"text\":\"Optimization History Plot\"},\"xaxis\":{\"title\":{\"text\":\"Trial\"}},\"yaxis\":{\"title\":{\"text\":\"Objective Value\"}},\"template\":{\"data\":{\"histogram2dcontour\":[{\"type\":\"histogram2dcontour\",\"colorbar\":{\"outlinewidth\":0,\"ticks\":\"\"},\"colorscale\":[[0.0,\"#0d0887\"],[0.1111111111111111,\"#46039f\"],[0.2222222222222222,\"#7201a8\"],[0.3333333333333333,\"#9c179e\"],[0.4444444444444444,\"#bd3786\"],[0.5555555555555556,\"#d8576b\"],[0.6666666666666666,\"#ed7953\"],[0.7777777777777778,\"#fb9f3a\"],[0.8888888888888888,\"#fdca26\"],[1.0,\"#f0f921\"]]}],\"choropleth\":[{\"type\":\"choropleth\",\"colorbar\":{\"outlinewidth\":0,\"ticks\":\"\"}}],\"histogram2d\":[{\"type\":\"histogram2d\",\"colorbar\":{\"outlinewidth\":0,\"ticks\":\"\"},\"colorscale\":[[0.0,\"#0d0887\"],[0.1111111111111111,\"#46039f\"],[0.2222222222222222,\"#7201a8\"],[0.3333333333333333,\"#9c179e\"],[0.4444444444444444,\"#bd3786\"],[0.5555555555555556,\"#d8576b\"],[0.6666666666666666,\"#ed7953\"],[0.7777777777777778,\"#fb9f3a\"],[0.8888888888888888,\"#fdca26\"],[1.0,\"#f0f921\"]]}],\"heatmap\":[{\"type\":\"heatmap\",\"colorbar\":{\"outlinewidth\":0,\"ticks\":\"\"},\"colorscale\":[[0.0,\"#0d0887\"],[0.1111111111111111,\"#46039f\"],[0.2222222222222222,\"#7201a8\"],[0.3333333333333333,\"#9c179e\"],[0.4444444444444444,\"#bd3786\"],[0.5555555555555556,\"#d8576b\"],[0.6666666666666666,\"#ed7953\"],[0.7777777777777778,\"#fb9f3a\"],[0.8888888888888888,\"#fdca26\"],[1.0,\"#f0f921\"]]}],\"heatmapgl\":[{\"type\":\"heatmapgl\",\"colorbar\":{\"outlinewidth\":0,\"ticks\":\"\"},\"colorscale\":[[0.0,\"#0d0887\"],[0.1111111111111111,\"#46039f\"],[0.2222222222222222,\"#7201a8\"],[0.3333333333333333,\"#9c179e\"],[0.4444444444444444,\"#bd3786\"],[0.5555555555555556,\"#d8576b\"],[0.6666666666666666,\"#ed7953\"],[0.7777777777777778,\"#fb9f3a\"],[0.8888888888888888,\"#fdca26\"],[1.0,\"#f0f921\"]]}],\"contourcarpet\":[{\"type\":\"contourcarpet\",\"colorbar\":{\"outlinewidth\":0,\"ticks\":\"\"}}],\"contour\":[{\"type\":\"contour\",\"colorbar\":{\"outlinewidth\":0,\"ticks\":\"\"},\"colorscale\":[[0.0,\"#0d0887\"],[0.1111111111111111,\"#46039f\"],[0.2222222222222222,\"#7201a8\"],[0.3333333333333333,\"#9c179e\"],[0.4444444444444444,\"#bd3786\"],[0.5555555555555556,\"#d8576b\"],[0.6666666666666666,\"#ed7953\"],[0.7777777777777778,\"#fb9f3a\"],[0.8888888888888888,\"#fdca26\"],[1.0,\"#f0f921\"]]}],\"surface\":[{\"type\":\"surface\",\"colorbar\":{\"outlinewidth\":0,\"ticks\":\"\"},\"colorscale\":[[0.0,\"#0d0887\"],[0.1111111111111111,\"#46039f\"],[0.2222222222222222,\"#7201a8\"],[0.3333333333333333,\"#9c179e\"],[0.4444444444444444,\"#bd3786\"],[0.5555555555555556,\"#d8576b\"],[0.6666666666666666,\"#ed7953\"],[0.7777777777777778,\"#fb9f3a\"],[0.8888888888888888,\"#fdca26\"],[1.0,\"#f0f921\"]]}],\"mesh3d\":[{\"type\":\"mesh3d\",\"colorbar\":{\"outlinewidth\":0,\"ticks\":\"\"}}],\"scatter\":[{\"fillpattern\":{\"fillmode\":\"overlay\",\"size\":10,\"solidity\":0.2},\"type\":\"scatter\"}],\"parcoords\":[{\"type\":\"parcoords\",\"line\":{\"colorbar\":{\"outlinewidth\":0,\"ticks\":\"\"}}}],\"scatterpolargl\":[{\"type\":\"scatterpolargl\",\"marker\":{\"colorbar\":{\"outlinewidth\":0,\"ticks\":\"\"}}}],\"bar\":[{\"error_x\":{\"color\":\"#2a3f5f\"},\"error_y\":{\"color\":\"#2a3f5f\"},\"marker\":{\"line\":{\"color\":\"#E5ECF6\",\"width\":0.5},\"pattern\":{\"fillmode\":\"overlay\",\"size\":10,\"solidity\":0.2}},\"type\":\"bar\"}],\"scattergeo\":[{\"type\":\"scattergeo\",\"marker\":{\"colorbar\":{\"outlinewidth\":0,\"ticks\":\"\"}}}],\"scatterpolar\":[{\"type\":\"scatterpolar\",\"marker\":{\"colorbar\":{\"outlinewidth\":0,\"ticks\":\"\"}}}],\"histogram\":[{\"marker\":{\"pattern\":{\"fillmode\":\"overlay\",\"size\":10,\"solidity\":0.2}},\"type\":\"histogram\"}],\"scattergl\":[{\"type\":\"scattergl\",\"marker\":{\"colorbar\":{\"outlinewidth\":0,\"ticks\":\"\"}}}],\"scatter3d\":[{\"type\":\"scatter3d\",\"line\":{\"colorbar\":{\"outlinewidth\":0,\"ticks\":\"\"}},\"marker\":{\"colorbar\":{\"outlinewidth\":0,\"ticks\":\"\"}}}],\"scattermapbox\":[{\"type\":\"scattermapbox\",\"marker\":{\"colorbar\":{\"outlinewidth\":0,\"ticks\":\"\"}}}],\"scatterternary\":[{\"type\":\"scatterternary\",\"marker\":{\"colorbar\":{\"outlinewidth\":0,\"ticks\":\"\"}}}],\"scattercarpet\":[{\"type\":\"scattercarpet\",\"marker\":{\"colorbar\":{\"outlinewidth\":0,\"ticks\":\"\"}}}],\"carpet\":[{\"aaxis\":{\"endlinecolor\":\"#2a3f5f\",\"gridcolor\":\"white\",\"linecolor\":\"white\",\"minorgridcolor\":\"white\",\"startlinecolor\":\"#2a3f5f\"},\"baxis\":{\"endlinecolor\":\"#2a3f5f\",\"gridcolor\":\"white\",\"linecolor\":\"white\",\"minorgridcolor\":\"white\",\"startlinecolor\":\"#2a3f5f\"},\"type\":\"carpet\"}],\"table\":[{\"cells\":{\"fill\":{\"color\":\"#EBF0F8\"},\"line\":{\"color\":\"white\"}},\"header\":{\"fill\":{\"color\":\"#C8D4E3\"},\"line\":{\"color\":\"white\"}},\"type\":\"table\"}],\"barpolar\":[{\"marker\":{\"line\":{\"color\":\"#E5ECF6\",\"width\":0.5},\"pattern\":{\"fillmode\":\"overlay\",\"size\":10,\"solidity\":0.2}},\"type\":\"barpolar\"}],\"pie\":[{\"automargin\":true,\"type\":\"pie\"}]},\"layout\":{\"autotypenumbers\":\"strict\",\"colorway\":[\"#636efa\",\"#EF553B\",\"#00cc96\",\"#ab63fa\",\"#FFA15A\",\"#19d3f3\",\"#FF6692\",\"#B6E880\",\"#FF97FF\",\"#FECB52\"],\"font\":{\"color\":\"#2a3f5f\"},\"hovermode\":\"closest\",\"hoverlabel\":{\"align\":\"left\"},\"paper_bgcolor\":\"white\",\"plot_bgcolor\":\"#E5ECF6\",\"polar\":{\"bgcolor\":\"#E5ECF6\",\"angularaxis\":{\"gridcolor\":\"white\",\"linecolor\":\"white\",\"ticks\":\"\"},\"radialaxis\":{\"gridcolor\":\"white\",\"linecolor\":\"white\",\"ticks\":\"\"}},\"ternary\":{\"bgcolor\":\"#E5ECF6\",\"aaxis\":{\"gridcolor\":\"white\",\"linecolor\":\"white\",\"ticks\":\"\"},\"baxis\":{\"gridcolor\":\"white\",\"linecolor\":\"white\",\"ticks\":\"\"},\"caxis\":{\"gridcolor\":\"white\",\"linecolor\":\"white\",\"ticks\":\"\"}},\"coloraxis\":{\"colorbar\":{\"outlinewidth\":0,\"ticks\":\"\"}},\"colorscale\":{\"sequential\":[[0.0,\"#0d0887\"],[0.1111111111111111,\"#46039f\"],[0.2222222222222222,\"#7201a8\"],[0.3333333333333333,\"#9c179e\"],[0.4444444444444444,\"#bd3786\"],[0.5555555555555556,\"#d8576b\"],[0.6666666666666666,\"#ed7953\"],[0.7777777777777778,\"#fb9f3a\"],[0.8888888888888888,\"#fdca26\"],[1.0,\"#f0f921\"]],\"sequentialminus\":[[0.0,\"#0d0887\"],[0.1111111111111111,\"#46039f\"],[0.2222222222222222,\"#7201a8\"],[0.3333333333333333,\"#9c179e\"],[0.4444444444444444,\"#bd3786\"],[0.5555555555555556,\"#d8576b\"],[0.6666666666666666,\"#ed7953\"],[0.7777777777777778,\"#fb9f3a\"],[0.8888888888888888,\"#fdca26\"],[1.0,\"#f0f921\"]],\"diverging\":[[0,\"#8e0152\"],[0.1,\"#c51b7d\"],[0.2,\"#de77ae\"],[0.3,\"#f1b6da\"],[0.4,\"#fde0ef\"],[0.5,\"#f7f7f7\"],[0.6,\"#e6f5d0\"],[0.7,\"#b8e186\"],[0.8,\"#7fbc41\"],[0.9,\"#4d9221\"],[1,\"#276419\"]]},\"xaxis\":{\"gridcolor\":\"white\",\"linecolor\":\"white\",\"ticks\":\"\",\"title\":{\"standoff\":15},\"zerolinecolor\":\"white\",\"automargin\":true,\"zerolinewidth\":2},\"yaxis\":{\"gridcolor\":\"white\",\"linecolor\":\"white\",\"ticks\":\"\",\"title\":{\"standoff\":15},\"zerolinecolor\":\"white\",\"automargin\":true,\"zerolinewidth\":2},\"scene\":{\"xaxis\":{\"backgroundcolor\":\"#E5ECF6\",\"gridcolor\":\"white\",\"linecolor\":\"white\",\"showbackground\":true,\"ticks\":\"\",\"zerolinecolor\":\"white\",\"gridwidth\":2},\"yaxis\":{\"backgroundcolor\":\"#E5ECF6\",\"gridcolor\":\"white\",\"linecolor\":\"white\",\"showbackground\":true,\"ticks\":\"\",\"zerolinecolor\":\"white\",\"gridwidth\":2},\"zaxis\":{\"backgroundcolor\":\"#E5ECF6\",\"gridcolor\":\"white\",\"linecolor\":\"white\",\"showbackground\":true,\"ticks\":\"\",\"zerolinecolor\":\"white\",\"gridwidth\":2}},\"shapedefaults\":{\"line\":{\"color\":\"#2a3f5f\"}},\"annotationdefaults\":{\"arrowcolor\":\"#2a3f5f\",\"arrowhead\":0,\"arrowwidth\":1},\"geo\":{\"bgcolor\":\"white\",\"landcolor\":\"#E5ECF6\",\"subunitcolor\":\"white\",\"showland\":true,\"showlakes\":true,\"lakecolor\":\"white\"},\"title\":{\"x\":0.05},\"mapbox\":{\"style\":\"light\"}}}},                        {\"responsive\": true}                    ).then(function(){\n",
       "                            \n",
       "var gd = document.getElementById('3bc06907-7bed-4ac7-af32-2969f162951c');\n",
       "var x = new MutationObserver(function (mutations, observer) {{\n",
       "        var display = window.getComputedStyle(gd).display;\n",
       "        if (!display || display === 'none') {{\n",
       "            console.log([gd, 'removed!']);\n",
       "            Plotly.purge(gd);\n",
       "            observer.disconnect();\n",
       "        }}\n",
       "}});\n",
       "\n",
       "// Listen for the removal of the full notebook cells\n",
       "var notebookContainer = gd.closest('#notebook-container');\n",
       "if (notebookContainer) {{\n",
       "    x.observe(notebookContainer, {childList: true});\n",
       "}}\n",
       "\n",
       "// Listen for the clearing of the current output cell\n",
       "var outputEl = gd.closest('.output');\n",
       "if (outputEl) {{\n",
       "    x.observe(outputEl, {childList: true});\n",
       "}}\n",
       "\n",
       "                        })                };                });            </script>        </div>"
      ]
     },
     "metadata": {},
     "output_type": "display_data"
    }
   ],
   "source": [
    "optuna.visualization.plot_optimization_history(study)"
   ]
  },
  {
   "cell_type": "code",
   "execution_count": 65,
   "id": "163768d6",
   "metadata": {},
   "outputs": [],
   "source": [
    "Nhidden = study.best_trial.params['Nhidden']\n",
    "hidden_size = study.best_trial.params['hidden_size']\n",
    "dropout_rate = study.best_trial.params['dropout']\n",
    "lr = study.best_trial.params['lr']\n",
    "\n",
    "model = Net(input_size, Nhidden, hidden_size, num_classes, dropout_rate)\n",
    "criterion = torch.nn.MSELoss(reduction='mean') \n",
    "optimizer = torch.optim.Adam(model.parameters(), lr=lr)\n",
    "\n",
    "train_loss = []\n",
    "train_acc = []\n",
    "val_loss = []\n",
    "val_acc = []\n",
    "\n",
    "for epoch in range(1, nepochs + 1):  \n",
    "    loss_t, acc_t = train_NN(model, train_loader, criterion, optimizer)\n",
    "    loss_v, acc_v = validation(model, val_loader)\n",
    "    train_loss.append(loss_t)\n",
    "    train_acc.append(acc_t)\n",
    "    val_loss.append(loss_v)\n",
    "    val_acc.append(acc_v)"
   ]
  },
  {
   "cell_type": "code",
   "execution_count": 74,
   "id": "35159b7c",
   "metadata": {},
   "outputs": [
    {
     "data": {
      "image/png": "[encoded data removed]",
      "text/plain": [
       "<Figure size 1440x504 with 2 Axes>"
      ]
     },
     "metadata": {
      "needs_background": "light"
     },
     "output_type": "display_data"
    }
   ],
   "source": [
    "fig = plt.figure(figsize=(20,7))\n",
    "\n",
    "ax1 = fig.add_subplot(121)\n",
    "plt.plot(train_loss,'-', label='training average loss')\n",
    "plt.plot(val_loss,'-', label='validation average loss')\n",
    "plt.ylabel('training average loss')\n",
    "plt.xlabel('epoch')\n",
    "plt.title('Training Loss')\n",
    "plt.legend()\n",
    "\n",
    "ax2 = fig.add_subplot(122)\n",
    "plt.plot(train_acc,'-', label='training average acc')\n",
    "plt.plot(val_acc,'-', label='validation average acc')\n",
    "plt.ylabel('training average acc')\n",
    "plt.xlabel('epoch')\n",
    "plt.title('Training Accuracy')\n",
    "plt.legend();"
   ]
  },
  {
   "cell_type": "code",
   "execution_count": 75,
   "id": "15364c36",
   "metadata": {
    "scrolled": true
   },
   "outputs": [
    {
     "name": "stdout",
     "output_type": "stream",
     "text": [
      "\n",
      " accuracy 0.9844\n",
      "\n",
      " confusion matrix \n",
      " [[4267   37]\n",
      " [  41  655]]\n"
     ]
    }
   ],
   "source": [
    "probs2 = model(torch.from_numpy(X_test.astype(np.float32)))\n",
    "pred2 = torch.round(probs2).detach().numpy()\n",
    "probs2 = probs2.detach().numpy()\n",
    "\n",
    "C2 = confusion_matrix(y_test, pred2)\n",
    "accuracy2 = accuracy_score(y_test, pred2)\n",
    "pr_2, rec_2, t_2 = precision_recall_curve(y_test, probs2)\n",
    "fpr_2, tpr_2, thresholds_2 = roc_curve(y_test, probs2)\n",
    "\n",
    "print('\\n accuracy', accuracy2)\n",
    "print('\\n confusion matrix \\n', C2)"
   ]
  }
 ],
 "metadata": {
  "kernelspec": {
   "display_name": "Python 3 (ipykernel)",
   "language": "python",
   "name": "python3"
  },
  "language_info": {
   "codemirror_mode": {
    "name": "ipython",
    "version": 3
   },
   "file_extension": ".py",
   "mimetype": "text/x-python",
   "name": "python",
   "nbconvert_exporter": "python",
   "pygments_lexer": "ipython3",
   "version": "3.9.7"
  }
 },
 "nbformat": 4,
 "nbformat_minor": 5
}
