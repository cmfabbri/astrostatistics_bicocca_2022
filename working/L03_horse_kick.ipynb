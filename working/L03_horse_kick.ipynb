{
 "cells": [
  {
   "cell_type": "markdown",
   "id": "e90d253e",
   "metadata": {},
   "source": [
    "### 2. Kicking horses\n",
    "\n",
    "A famous early  application of low-number statistics was an analysis of Prussian cavalryman horse-kick deaths by [Bortkiewicz](https://www.wikiwand.com/en/Ladislaus_Bortkiewicz) in 1898.\n",
    "\n",
    "He studied the distribution of 122 men kicked to death by horses among 10 Prussian army corps within 20 years (so a total number of corpes of 200). He recorded the number of corps with a given number of deaths:\n",
    "\n",
    "| Number of deaths | Number of groups |\n",
    "| --- | --- |\n",
    "| 0 | 109 |\n",
    "| 1 | 65 |\n",
    "| 2 | 22 |\n",
    "| 3 | 3 |\n",
    "| 4 | 1 |\n",
    "\n",
    "- Plot the resulting probability distribution. Careful with the normalization\n",
    "- How does it look like? Again try to fit it by hand.\n",
    "\n",
    "(Hint: think about sample mean and sample variance)\n",
    "\n"
   ]
  },
  {
   "cell_type": "markdown",
   "id": "2b2043b4",
   "metadata": {},
   "source": [
    "--------"
   ]
  },
  {
   "cell_type": "markdown",
   "id": "45d210b7",
   "metadata": {},
   "source": [
    "## My implementation"
   ]
  },
  {
   "cell_type": "code",
   "execution_count": 1,
   "id": "e62f3b62",
   "metadata": {},
   "outputs": [],
   "source": [
    "import numpy as np\n",
    "import matplotlib.pyplot as plt\n",
    "import scipy.stats "
   ]
  },
  {
   "cell_type": "code",
   "execution_count": 2,
   "id": "791ee44e",
   "metadata": {},
   "outputs": [
    {
     "name": "stdout",
     "output_type": "stream",
     "text": [
      "[0 0 0 0 0 0 0 0 0 0 0 0 0 0 0 0 0 0 0 0 0 0 0 0 0 0 0 0 0 0 0 0 0 0 0 0 0\n",
      " 0 0 0 0 0 0 0 0 0 0 0 0 0 0 0 0 0 0 0 0 0 0 0 0 0 0 0 0 0 0 0 0 0 0 0 0 0\n",
      " 0 0 0 0 0 0 0 0 0 0 0 0 0 0 0 0 0 0 0 0 0 0 0 0 0 0 0 0 0 0 0 0 0 0 0 1 1\n",
      " 1 1 1 1 1 1 1 1 1 1 1 1 1 1 1 1 1 1 1 1 1 1 1 1 1 1 1 1 1 1 1 1 1 1 1 1 1\n",
      " 1 1 1 1 1 1 1 1 1 1 1 1 1 1 1 1 1 1 1 1 1 1 1 1 1 1 2 2 2 2 2 2 2 2 2 2 2\n",
      " 2 2 2 2 2 2 2 2 2 2 2 3 3 3 4]\n"
     ]
    }
   ],
   "source": [
    "# variables\n",
    "tot_corps = 200  \n",
    "dc= {'deaths' : np.array([0, 1, 2, 3, 4]),\n",
    "     'corps' : np.array([109, 65, 22, 3, 1])}\n",
    "deaths_tot = np.repeat (dc['deaths'], dc['corps'])\n",
    "\n",
    "print(deaths_tot)"
   ]
  },
  {
   "cell_type": "code",
   "execution_count": 5,
   "id": "cc07f639",
   "metadata": {},
   "outputs": [],
   "source": [
    "# fit\n",
    "freq = dc['corps']/tot_corps\n",
    "weighted_mean = np.average(dc['deaths'], weights=freq)     \n",
    "poisson = scipy.stats.poisson(weighted_mean).pmf(dc['deaths'])  "
   ]
  },
  {
   "cell_type": "code",
   "execution_count": 6,
   "id": "483bddd1",
   "metadata": {},
   "outputs": [
    {
     "data": {
      "text/plain": [
       "Text(0, 0.5, 'probability of deaths for a corp')"
      ]
     },
     "execution_count": 6,
     "metadata": {},
     "output_type": "execute_result"
    },
    {
     "data": {
      "image/png": "[encoded data removed]",
      "text/plain": [
       "<Figure size 432x288 with 1 Axes>"
      ]
     },
     "metadata": {
      "needs_background": "light"
     },
     "output_type": "display_data"
    }
   ],
   "source": [
    "#graphs\n",
    "plt.hist(deaths_tot, weights = np.ones(tot_corps)/tot_corps, label='probability distribution')    \n",
    "plt.plot(dc['deaths'], poisson, label='fit')\n",
    "plt.scatter(dc['deaths'], poisson, color='orange')\n",
    "plt.legend()\n",
    "plt.title('probability distribution fitted with a Poissonian mass function')\n",
    "plt.xlabel('number of deaths')\n",
    "plt.ylabel('probability of deaths for a corp');    #corps/total number"
   ]
  }
 ],
 "metadata": {
  "kernelspec": {
   "display_name": "Python 3 (ipykernel)",
   "language": "python",
   "name": "python3"
  },
  "language_info": {
   "codemirror_mode": {
    "name": "ipython",
    "version": 3
   },
   "file_extension": ".py",
   "mimetype": "text/x-python",
   "name": "python",
   "nbconvert_exporter": "python",
   "pygments_lexer": "ipython3",
   "version": "3.9.7"
  }
 },
 "nbformat": 4,
 "nbformat_minor": 5
}
